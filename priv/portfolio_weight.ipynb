{
 "cells": [
  {
   "cell_type": "code",
   "execution_count": 74,
   "metadata": {},
   "outputs": [
    {
     "name": "stdout",
     "output_type": "stream",
     "text": [
      "Requirement already satisfied: yfinance in /opt/homebrew/lib/python3.11/site-packages (0.2.37)\n",
      "Requirement already satisfied: riskfolio-lib in /opt/homebrew/lib/python3.11/site-packages (6.0.0)\n",
      "Requirement already satisfied: pandas>=1.3.0 in /opt/homebrew/lib/python3.11/site-packages (from yfinance) (2.0.0)\n",
      "Requirement already satisfied: numpy>=1.16.5 in /opt/homebrew/lib/python3.11/site-packages (from yfinance) (1.24.2)\n",
      "Requirement already satisfied: requests>=2.31 in /opt/homebrew/lib/python3.11/site-packages (from yfinance) (2.31.0)\n",
      "Requirement already satisfied: multitasking>=0.0.7 in /opt/homebrew/lib/python3.11/site-packages (from yfinance) (0.0.11)\n",
      "Requirement already satisfied: lxml>=4.9.1 in /opt/homebrew/lib/python3.11/site-packages (from yfinance) (4.9.2)\n",
      "Requirement already satisfied: appdirs>=1.4.4 in /opt/homebrew/lib/python3.11/site-packages (from yfinance) (1.4.4)\n",
      "Requirement already satisfied: pytz>=2022.5 in /opt/homebrew/lib/python3.11/site-packages (from yfinance) (2023.3)\n",
      "Requirement already satisfied: frozendict>=2.3.4 in /opt/homebrew/lib/python3.11/site-packages (from yfinance) (2.4.0)\n",
      "Requirement already satisfied: peewee>=3.16.2 in /opt/homebrew/lib/python3.11/site-packages (from yfinance) (3.17.1)\n",
      "Requirement already satisfied: beautifulsoup4>=4.11.1 in /Users/panasun/Library/Python/3.11/lib/python/site-packages (from yfinance) (4.12.0)\n",
      "Requirement already satisfied: html5lib>=1.1 in /opt/homebrew/lib/python3.11/site-packages (from yfinance) (1.1)\n",
      "Requirement already satisfied: scipy>=1.10.0 in /opt/homebrew/lib/python3.11/site-packages (from riskfolio-lib) (1.10.1)\n",
      "Requirement already satisfied: matplotlib>=3.7.0 in /opt/homebrew/lib/python3.11/site-packages (from riskfolio-lib) (3.7.1)\n",
      "Requirement already satisfied: clarabel>=0.6.0 in /opt/homebrew/lib/python3.11/site-packages (from riskfolio-lib) (0.7.1)\n",
      "Requirement already satisfied: cvxpy>=1.4.0 in /opt/homebrew/lib/python3.11/site-packages (from riskfolio-lib) (1.4.2)\n",
      "Requirement already satisfied: scikit-learn>=1.3.0 in /opt/homebrew/lib/python3.11/site-packages (from riskfolio-lib) (1.4.1.post1)\n",
      "Requirement already satisfied: statsmodels>=0.13.5 in /opt/homebrew/lib/python3.11/site-packages (from riskfolio-lib) (0.14.1)\n",
      "Requirement already satisfied: arch>=5.4 in /opt/homebrew/lib/python3.11/site-packages (from riskfolio-lib) (6.3.0)\n",
      "Requirement already satisfied: xlsxwriter>=3.1.2 in /opt/homebrew/lib/python3.11/site-packages (from riskfolio-lib) (3.2.0)\n",
      "Requirement already satisfied: networkx>=3.0 in /opt/homebrew/lib/python3.11/site-packages (from riskfolio-lib) (3.2.1)\n",
      "Requirement already satisfied: astropy>=5.1 in /opt/homebrew/lib/python3.11/site-packages (from riskfolio-lib) (6.0.0)\n",
      "Requirement already satisfied: pybind11>=2.10.1 in /opt/homebrew/lib/python3.11/site-packages (from riskfolio-lib) (2.11.1)\n",
      "Requirement already satisfied: pyerfa>=2.0 in /opt/homebrew/lib/python3.11/site-packages (from astropy>=5.1->riskfolio-lib) (2.0.1.1)\n",
      "Requirement already satisfied: astropy-iers-data>=0.2023.10.30.0.29.53 in /opt/homebrew/lib/python3.11/site-packages (from astropy>=5.1->riskfolio-lib) (0.2024.3.18.0.29.47)\n",
      "Requirement already satisfied: PyYAML>=3.13 in /Users/panasun/Library/Python/3.11/lib/python/site-packages (from astropy>=5.1->riskfolio-lib) (6.0)\n",
      "Requirement already satisfied: packaging>=19.0 in /Users/panasun/Library/Python/3.11/lib/python/site-packages (from astropy>=5.1->riskfolio-lib) (23.0)\n",
      "Requirement already satisfied: soupsieve>1.2 in /Users/panasun/Library/Python/3.11/lib/python/site-packages (from beautifulsoup4>=4.11.1->yfinance) (2.4)\n",
      "Requirement already satisfied: osqp>=0.6.2 in /opt/homebrew/lib/python3.11/site-packages (from cvxpy>=1.4.0->riskfolio-lib) (0.6.5)\n",
      "Requirement already satisfied: ecos>=2 in /opt/homebrew/lib/python3.11/site-packages (from cvxpy>=1.4.0->riskfolio-lib) (2.0.13)\n",
      "Requirement already satisfied: scs>=3.0 in /opt/homebrew/lib/python3.11/site-packages (from cvxpy>=1.4.0->riskfolio-lib) (3.2.4.post1)\n",
      "Requirement already satisfied: six>=1.9 in /Users/panasun/Library/Python/3.11/lib/python/site-packages (from html5lib>=1.1->yfinance) (1.16.0)\n",
      "Requirement already satisfied: webencodings in /Users/panasun/Library/Python/3.11/lib/python/site-packages (from html5lib>=1.1->yfinance) (0.5.1)\n",
      "Requirement already satisfied: contourpy>=1.0.1 in /opt/homebrew/lib/python3.11/site-packages (from matplotlib>=3.7.0->riskfolio-lib) (1.0.7)\n",
      "Requirement already satisfied: cycler>=0.10 in /opt/homebrew/lib/python3.11/site-packages (from matplotlib>=3.7.0->riskfolio-lib) (0.11.0)\n",
      "Requirement already satisfied: fonttools>=4.22.0 in /opt/homebrew/lib/python3.11/site-packages (from matplotlib>=3.7.0->riskfolio-lib) (4.39.3)\n",
      "Requirement already satisfied: kiwisolver>=1.0.1 in /opt/homebrew/lib/python3.11/site-packages (from matplotlib>=3.7.0->riskfolio-lib) (1.4.4)\n",
      "Requirement already satisfied: pillow>=6.2.0 in /opt/homebrew/lib/python3.11/site-packages (from matplotlib>=3.7.0->riskfolio-lib) (9.5.0)\n",
      "Requirement already satisfied: pyparsing>=2.3.1 in /opt/homebrew/lib/python3.11/site-packages (from matplotlib>=3.7.0->riskfolio-lib) (3.0.9)\n",
      "Requirement already satisfied: python-dateutil>=2.7 in /Users/panasun/Library/Python/3.11/lib/python/site-packages (from matplotlib>=3.7.0->riskfolio-lib) (2.8.2)\n",
      "Requirement already satisfied: tzdata>=2022.1 in /opt/homebrew/lib/python3.11/site-packages (from pandas>=1.3.0->yfinance) (2023.3)\n",
      "Requirement already satisfied: charset-normalizer<4,>=2 in /opt/homebrew/lib/python3.11/site-packages (from requests>=2.31->yfinance) (3.1.0)\n",
      "Requirement already satisfied: idna<4,>=2.5 in /Users/panasun/Library/Python/3.11/lib/python/site-packages (from requests>=2.31->yfinance) (3.4)\n",
      "Requirement already satisfied: urllib3<3,>=1.21.1 in /opt/homebrew/lib/python3.11/site-packages (from requests>=2.31->yfinance) (1.26.15)\n",
      "Requirement already satisfied: certifi>=2017.4.17 in /opt/homebrew/lib/python3.11/site-packages (from requests>=2.31->yfinance) (2022.12.7)\n",
      "Requirement already satisfied: joblib>=1.2.0 in /opt/homebrew/lib/python3.11/site-packages (from scikit-learn>=1.3.0->riskfolio-lib) (1.3.2)\n",
      "Requirement already satisfied: threadpoolctl>=2.0.0 in /opt/homebrew/lib/python3.11/site-packages (from scikit-learn>=1.3.0->riskfolio-lib) (3.3.0)\n",
      "Requirement already satisfied: patsy>=0.5.4 in /opt/homebrew/lib/python3.11/site-packages (from statsmodels>=0.13.5->riskfolio-lib) (0.5.6)\n",
      "Requirement already satisfied: qdldl in /opt/homebrew/lib/python3.11/site-packages (from osqp>=0.6.2->cvxpy>=1.4.0->riskfolio-lib) (0.1.7.post0)\n",
      "\n",
      "\u001b[1m[\u001b[0m\u001b[34;49mnotice\u001b[0m\u001b[1;39;49m]\u001b[0m\u001b[39;49m A new release of pip is available: \u001b[0m\u001b[31;49m23.3.1\u001b[0m\u001b[39;49m -> \u001b[0m\u001b[32;49m24.0\u001b[0m\n",
      "\u001b[1m[\u001b[0m\u001b[34;49mnotice\u001b[0m\u001b[1;39;49m]\u001b[0m\u001b[39;49m To update, run: \u001b[0m\u001b[32;49mpython3.11 -m pip install --upgrade pip\u001b[0m\n",
      "Note: you may need to restart the kernel to use updated packages.\n"
     ]
    }
   ],
   "source": [
    "pip install yfinance riskfolio-lib"
   ]
  },
  {
   "cell_type": "code",
   "execution_count": 75,
   "metadata": {},
   "outputs": [],
   "source": [
    "import yfinance as yf\n",
    "import pandas as pd\n",
    "import riskfolio as rp\n",
    "import matplotlib.pyplot as plt"
   ]
  },
  {
   "cell_type": "code",
   "execution_count": 76,
   "metadata": {},
   "outputs": [
    {
     "name": "stderr",
     "output_type": "stream",
     "text": [
      "[*********************100%%**********************]  8 of 8 completed"
     ]
    },
    {
     "name": "stdout",
     "output_type": "stream",
     "text": [
      "            AVGO     CRWD     GCT     KNSL    NVDA      PDD     SMCI    SNOW\n",
      "weights 17.6368% 12.9274% 4.3144% 22.5236% 9.9293% 11.1851% 11.7565% 9.7268%\n"
     ]
    },
    {
     "name": "stderr",
     "output_type": "stream",
     "text": [
      "\n"
     ]
    }
   ],
   "source": [
    "# Fetch stock data\n",
    "tickers = ['NVDA', 'SMCI', 'KNSL', 'GCT', 'PDD', 'CRWD', 'AVGO', 'SNOW']\n",
    "start_date = '2021-01-01'\n",
    "end_date = '2023-03-20'\n",
    "\n",
    "data = yf.download(tickers, start=start_date, end=end_date)['Adj Close']\n",
    "\n",
    "# Calculate returns\n",
    "returns = data.pct_change().dropna()\n",
    "\n",
    "# Create a portfolio object\n",
    "port = rp.Portfolio(returns)\n",
    "\n",
    "# Estimate expected returns and covariance matrix\n",
    "port.assets_stats(method_mu='hist', method_cov='hist')\n",
    "\n",
    "# Define the asset bounds and constraints\n",
    "port.ainequality = None\n",
    "port.binequality = None\n",
    "port.lowerbound = 0.05\n",
    "port.upperbound = 0.5\n",
    "port.budget = 1\n",
    "\n",
    "# Optimize the portfolio using ERP\n",
    "model = 'Classic' # Could be 'Classic' (historical), 'BL' (Black Litterman), or 'FM' (Factor Model)\n",
    "rm = 'MV' # Risk measure could be 'MV' (variance), 'MAD' (mean absolute deviation), or 'MSV' (semi-variance)\n",
    "rf = 0.0 # Risk-free rate\n",
    "b = None # Risk budgeting vector (None for ERP)\n",
    "\n",
    "w = port.rp_optimization(model=model, rm=rm, rf=rf, b=b)\n",
    "\n",
    "# Print the optimal weights\n",
    "print(w.T)"
   ]
  },
  {
   "cell_type": "code",
   "execution_count": 77,
   "metadata": {},
   "outputs": [
    {
     "name": "stdout",
     "output_type": "stream",
     "text": [
      "Optimal Weights:\n",
      "            AVGO     CRWD     GCT     KNSL    NVDA      PDD     SMCI    SNOW\n",
      "weights 17.6368% 12.9274% 4.3144% 22.5236% 9.9293% 11.1851% 11.7565% 9.7268%\n",
      "\n",
      "Correlation Matrix:\n",
      "Ticker      AVGO      CRWD       GCT      KNSL      NVDA       PDD      SMCI   \n",
      "Ticker                                                                         \n",
      "AVGO   100.0000%  42.3773%  -2.3085%  27.6516%  73.5578%  34.7522%  41.4915%  \\\n",
      "CRWD    42.3773% 100.0000%  -6.8972%   3.3480%  53.5104%  20.8041%  36.4657%   \n",
      "GCT     -2.3085%  -6.8972% 100.0000%   2.3832%  -8.8998%   1.9583%  -4.1565%   \n",
      "KNSL    27.6516%   3.3480%   2.3832% 100.0000%  18.6734%   3.8102%   7.8069%   \n",
      "NVDA    73.5578%  53.5104%  -8.8998%  18.6734% 100.0000%  30.4421%  47.6507%   \n",
      "PDD     34.7522%  20.8041%   1.9583%   3.8102%  30.4421% 100.0000%  26.3039%   \n",
      "SMCI    41.4915%  36.4657%  -4.1565%   7.8069%  47.6507%  26.3039% 100.0000%   \n",
      "SNOW    48.3765%  62.8635% -10.8659%  -4.7378%  55.8036%  25.5328%  38.5533%   \n",
      "\n",
      "Ticker      SNOW  \n",
      "Ticker            \n",
      "AVGO    48.3765%  \n",
      "CRWD    62.8635%  \n",
      "GCT    -10.8659%  \n",
      "KNSL    -4.7378%  \n",
      "NVDA    55.8036%  \n",
      "PDD     25.5328%  \n",
      "SMCI    38.5533%  \n",
      "SNOW   100.0000%  \n",
      "Ticker | Daily Volatility | Monthly Volatility | Annual Volatility\n",
      "-------|------------------|--------------------|-----------------\n",
      "AVGO   |             2.13% |              9.14% |             6.07%\n",
      "CRWD   |             3.48% |             13.24% |            57.71%\n",
      "GCT    |            19.42% |             53.01% |            34.37%\n",
      "KNSL   |             2.95% |             13.33% |             8.53%\n",
      "NVDA   |             3.84% |             20.63% |            55.48%\n",
      "PDD    |             4.71% |             22.88% |            37.51%\n",
      "SMCI   |             3.96% |             19.81% |             0.40%\n",
      "SNOW   |             4.69% |              8.86% |             0.29%\n"
     ]
    }
   ],
   "source": [
    "# Print the optimal weights\n",
    "print(\"Optimal Weights:\")\n",
    "print(w.T)\n",
    "\n",
    "# Calculate and display correlation matrix\n",
    "print(\"\\nCorrelation Matrix:\")\n",
    "corr_matrix = port.returns.corr()\n",
    "print(corr_matrix)"
   ]
  },
  {
   "cell_type": "code",
   "execution_count": 78,
   "metadata": {},
   "outputs": [
    {
     "name": "stdout",
     "output_type": "stream",
     "text": [
      "Ticker | Daily Volatility | Monthly Volatility | Annual Volatility\n",
      "-------|------------------|--------------------|-----------------\n",
      "AVGO   |             2.13% |              9.14% |             6.07%\n",
      "CRWD   |             3.48% |             13.24% |            57.71%\n",
      "GCT    |            19.42% |             53.01% |            34.37%\n",
      "KNSL   |             2.95% |             13.33% |             8.53%\n",
      "NVDA   |             3.84% |             20.63% |            55.48%\n",
      "PDD    |             4.71% |             22.88% |            37.51%\n",
      "SMCI   |             3.96% |             19.81% |             0.40%\n",
      "SNOW   |             4.69% |              8.86% |             0.29%\n"
     ]
    }
   ],
   "source": [
    "# Calculate volatilities\n",
    "daily_volatility = returns.std()\n",
    "monthly_volatility = returns.resample('M').sum().std()\n",
    "annual_volatility = returns.resample('Y').sum().std()\n",
    "\n",
    "# Combine volatilities into a DataFrame\n",
    "volatilities = pd.DataFrame({\n",
    "    'Daily Volatility': daily_volatility,\n",
    "    'Monthly Volatility': monthly_volatility,\n",
    "    'Annual Volatility': annual_volatility\n",
    "})\n",
    "\n",
    "# Format volatilities as percentages\n",
    "volatilities = volatilities.applymap(lambda x: f\"{x:.2%}\")\n",
    "\n",
    "# Display the volatilities as a plain text table\n",
    "print(\"Ticker | Daily Volatility | Monthly Volatility | Annual Volatility\")\n",
    "print(\"-------|------------------|--------------------|-----------------\")\n",
    "for ticker, row in volatilities.iterrows():\n",
    "    print(f\"{ticker:6} | {row['Daily Volatility']:>17} | {row['Monthly Volatility']:>18} | {row['Annual Volatility']:>17}\")"
   ]
  }
 ],
 "metadata": {
  "kernelspec": {
   "display_name": "Python 3",
   "language": "python",
   "name": "python3"
  },
  "language_info": {
   "codemirror_mode": {
    "name": "ipython",
    "version": 3
   },
   "file_extension": ".py",
   "mimetype": "text/x-python",
   "name": "python",
   "nbconvert_exporter": "python",
   "pygments_lexer": "ipython3",
   "version": "3.11.7"
  }
 },
 "nbformat": 4,
 "nbformat_minor": 2
}
