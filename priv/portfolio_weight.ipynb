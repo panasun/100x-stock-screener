{
 "cells": [
  {
   "cell_type": "code",
   "execution_count": 113,
   "metadata": {},
   "outputs": [
    {
     "name": "stdout",
     "output_type": "stream",
     "text": [
      "Requirement already satisfied: yfinance in /opt/homebrew/lib/python3.11/site-packages (0.2.37)\n",
      "Requirement already satisfied: riskfolio-lib in /opt/homebrew/lib/python3.11/site-packages (6.0.0)\n",
      "Requirement already satisfied: pandas>=1.3.0 in /opt/homebrew/lib/python3.11/site-packages (from yfinance) (2.0.0)\n",
      "Requirement already satisfied: numpy>=1.16.5 in /opt/homebrew/lib/python3.11/site-packages (from yfinance) (1.24.2)\n",
      "Requirement already satisfied: requests>=2.31 in /opt/homebrew/lib/python3.11/site-packages (from yfinance) (2.31.0)\n",
      "Requirement already satisfied: multitasking>=0.0.7 in /opt/homebrew/lib/python3.11/site-packages (from yfinance) (0.0.11)\n",
      "Requirement already satisfied: lxml>=4.9.1 in /opt/homebrew/lib/python3.11/site-packages (from yfinance) (4.9.2)\n",
      "Requirement already satisfied: appdirs>=1.4.4 in /opt/homebrew/lib/python3.11/site-packages (from yfinance) (1.4.4)\n",
      "Requirement already satisfied: pytz>=2022.5 in /opt/homebrew/lib/python3.11/site-packages (from yfinance) (2023.3)\n",
      "Requirement already satisfied: frozendict>=2.3.4 in /opt/homebrew/lib/python3.11/site-packages (from yfinance) (2.4.0)\n",
      "Requirement already satisfied: peewee>=3.16.2 in /opt/homebrew/lib/python3.11/site-packages (from yfinance) (3.17.1)\n",
      "Requirement already satisfied: beautifulsoup4>=4.11.1 in /Users/panasun/Library/Python/3.11/lib/python/site-packages (from yfinance) (4.12.0)\n",
      "Requirement already satisfied: html5lib>=1.1 in /opt/homebrew/lib/python3.11/site-packages (from yfinance) (1.1)\n",
      "Requirement already satisfied: scipy>=1.10.0 in /opt/homebrew/lib/python3.11/site-packages (from riskfolio-lib) (1.10.1)\n",
      "Requirement already satisfied: matplotlib>=3.7.0 in /opt/homebrew/lib/python3.11/site-packages (from riskfolio-lib) (3.7.1)\n",
      "Requirement already satisfied: clarabel>=0.6.0 in /opt/homebrew/lib/python3.11/site-packages (from riskfolio-lib) (0.7.1)\n",
      "Requirement already satisfied: cvxpy>=1.4.0 in /opt/homebrew/lib/python3.11/site-packages (from riskfolio-lib) (1.4.2)\n",
      "Requirement already satisfied: scikit-learn>=1.3.0 in /opt/homebrew/lib/python3.11/site-packages (from riskfolio-lib) (1.4.1.post1)\n",
      "Requirement already satisfied: statsmodels>=0.13.5 in /opt/homebrew/lib/python3.11/site-packages (from riskfolio-lib) (0.14.1)\n",
      "Requirement already satisfied: arch>=5.4 in /opt/homebrew/lib/python3.11/site-packages (from riskfolio-lib) (6.3.0)\n",
      "Requirement already satisfied: xlsxwriter>=3.1.2 in /opt/homebrew/lib/python3.11/site-packages (from riskfolio-lib) (3.2.0)\n",
      "Requirement already satisfied: networkx>=3.0 in /opt/homebrew/lib/python3.11/site-packages (from riskfolio-lib) (3.2.1)\n",
      "Requirement already satisfied: astropy>=5.1 in /opt/homebrew/lib/python3.11/site-packages (from riskfolio-lib) (6.0.0)\n",
      "Requirement already satisfied: pybind11>=2.10.1 in /opt/homebrew/lib/python3.11/site-packages (from riskfolio-lib) (2.11.1)\n",
      "Requirement already satisfied: pyerfa>=2.0 in /opt/homebrew/lib/python3.11/site-packages (from astropy>=5.1->riskfolio-lib) (2.0.1.1)\n",
      "Requirement already satisfied: astropy-iers-data>=0.2023.10.30.0.29.53 in /opt/homebrew/lib/python3.11/site-packages (from astropy>=5.1->riskfolio-lib) (0.2024.3.18.0.29.47)\n",
      "Requirement already satisfied: PyYAML>=3.13 in /Users/panasun/Library/Python/3.11/lib/python/site-packages (from astropy>=5.1->riskfolio-lib) (6.0)\n",
      "Requirement already satisfied: packaging>=19.0 in /Users/panasun/Library/Python/3.11/lib/python/site-packages (from astropy>=5.1->riskfolio-lib) (23.0)\n",
      "Requirement already satisfied: soupsieve>1.2 in /Users/panasun/Library/Python/3.11/lib/python/site-packages (from beautifulsoup4>=4.11.1->yfinance) (2.4)\n",
      "Requirement already satisfied: osqp>=0.6.2 in /opt/homebrew/lib/python3.11/site-packages (from cvxpy>=1.4.0->riskfolio-lib) (0.6.5)\n",
      "Requirement already satisfied: ecos>=2 in /opt/homebrew/lib/python3.11/site-packages (from cvxpy>=1.4.0->riskfolio-lib) (2.0.13)\n",
      "Requirement already satisfied: scs>=3.0 in /opt/homebrew/lib/python3.11/site-packages (from cvxpy>=1.4.0->riskfolio-lib) (3.2.4.post1)\n",
      "Requirement already satisfied: six>=1.9 in /Users/panasun/Library/Python/3.11/lib/python/site-packages (from html5lib>=1.1->yfinance) (1.16.0)\n",
      "Requirement already satisfied: webencodings in /Users/panasun/Library/Python/3.11/lib/python/site-packages (from html5lib>=1.1->yfinance) (0.5.1)\n",
      "Requirement already satisfied: contourpy>=1.0.1 in /opt/homebrew/lib/python3.11/site-packages (from matplotlib>=3.7.0->riskfolio-lib) (1.0.7)\n",
      "Requirement already satisfied: cycler>=0.10 in /opt/homebrew/lib/python3.11/site-packages (from matplotlib>=3.7.0->riskfolio-lib) (0.11.0)\n",
      "Requirement already satisfied: fonttools>=4.22.0 in /opt/homebrew/lib/python3.11/site-packages (from matplotlib>=3.7.0->riskfolio-lib) (4.39.3)\n",
      "Requirement already satisfied: kiwisolver>=1.0.1 in /opt/homebrew/lib/python3.11/site-packages (from matplotlib>=3.7.0->riskfolio-lib) (1.4.4)\n",
      "Requirement already satisfied: pillow>=6.2.0 in /opt/homebrew/lib/python3.11/site-packages (from matplotlib>=3.7.0->riskfolio-lib) (9.5.0)\n",
      "Requirement already satisfied: pyparsing>=2.3.1 in /opt/homebrew/lib/python3.11/site-packages (from matplotlib>=3.7.0->riskfolio-lib) (3.0.9)\n",
      "Requirement already satisfied: python-dateutil>=2.7 in /Users/panasun/Library/Python/3.11/lib/python/site-packages (from matplotlib>=3.7.0->riskfolio-lib) (2.8.2)\n",
      "Requirement already satisfied: tzdata>=2022.1 in /opt/homebrew/lib/python3.11/site-packages (from pandas>=1.3.0->yfinance) (2023.3)\n",
      "Requirement already satisfied: charset-normalizer<4,>=2 in /opt/homebrew/lib/python3.11/site-packages (from requests>=2.31->yfinance) (3.1.0)\n",
      "Requirement already satisfied: idna<4,>=2.5 in /Users/panasun/Library/Python/3.11/lib/python/site-packages (from requests>=2.31->yfinance) (3.4)\n",
      "Requirement already satisfied: urllib3<3,>=1.21.1 in /opt/homebrew/lib/python3.11/site-packages (from requests>=2.31->yfinance) (1.26.15)\n",
      "Requirement already satisfied: certifi>=2017.4.17 in /opt/homebrew/lib/python3.11/site-packages (from requests>=2.31->yfinance) (2022.12.7)\n",
      "Requirement already satisfied: joblib>=1.2.0 in /opt/homebrew/lib/python3.11/site-packages (from scikit-learn>=1.3.0->riskfolio-lib) (1.3.2)\n",
      "Requirement already satisfied: threadpoolctl>=2.0.0 in /opt/homebrew/lib/python3.11/site-packages (from scikit-learn>=1.3.0->riskfolio-lib) (3.3.0)\n",
      "Requirement already satisfied: patsy>=0.5.4 in /opt/homebrew/lib/python3.11/site-packages (from statsmodels>=0.13.5->riskfolio-lib) (0.5.6)\n",
      "Requirement already satisfied: qdldl in /opt/homebrew/lib/python3.11/site-packages (from osqp>=0.6.2->cvxpy>=1.4.0->riskfolio-lib) (0.1.7.post0)\n",
      "\n",
      "\u001b[1m[\u001b[0m\u001b[34;49mnotice\u001b[0m\u001b[1;39;49m]\u001b[0m\u001b[39;49m A new release of pip is available: \u001b[0m\u001b[31;49m23.3.1\u001b[0m\u001b[39;49m -> \u001b[0m\u001b[32;49m24.0\u001b[0m\n",
      "\u001b[1m[\u001b[0m\u001b[34;49mnotice\u001b[0m\u001b[1;39;49m]\u001b[0m\u001b[39;49m To update, run: \u001b[0m\u001b[32;49mpython3.11 -m pip install --upgrade pip\u001b[0m\n",
      "Note: you may need to restart the kernel to use updated packages.\n"
     ]
    }
   ],
   "source": [
    "pip install yfinance riskfolio-lib"
   ]
  },
  {
   "cell_type": "code",
   "execution_count": 114,
   "metadata": {},
   "outputs": [],
   "source": [
    "import yfinance as yf\n",
    "import pandas as pd\n",
    "import riskfolio as rp\n",
    "import matplotlib.pyplot as plt"
   ]
  },
  {
   "cell_type": "code",
   "execution_count": 115,
   "metadata": {},
   "outputs": [
    {
     "name": "stderr",
     "output_type": "stream",
     "text": [
      "[*********************100%%**********************]  8 of 8 completed"
     ]
    },
    {
     "name": "stdout",
     "output_type": "stream",
     "text": [
      "\n",
      "Optimal Weights:\n",
      "            AVGO     CRWD     GCT     KNSL    NVDA      PDD    SMCI     SNOW\n",
      "weights 15.1064% 12.3810% 5.1841% 22.2631% 8.5259% 13.6484% 4.6213% 18.2697%\n"
     ]
    },
    {
     "name": "stderr",
     "output_type": "stream",
     "text": [
      "\n"
     ]
    }
   ],
   "source": [
    "import yfinance as yf\n",
    "import riskfolio as rp\n",
    "import pandas as pd\n",
    "import numpy as np\n",
    "\n",
    "# Fetch stock data\n",
    "tickers = ['NVDA', 'SMCI', 'KNSL', 'GCT', 'PDD', 'CRWD', 'AVGO', 'SNOW']\n",
    "start_date = '2021-01-01'\n",
    "end_date = '2024-03-20'\n",
    "\n",
    "data = yf.download(tickers, start=start_date, end=end_date)['Adj Close']\n",
    "\n",
    "# Resample data to monthly frequency\n",
    "monthly_data = data.resample('M').last()\n",
    "\n",
    "# Calculate returns\n",
    "returns = monthly_data.pct_change().dropna()\n",
    "\n",
    "# Create a portfolio object\n",
    "port = rp.Portfolio(returns)\n",
    "\n",
    "# Estimate expected returns and covariance matrix\n",
    "port.assets_stats(method_mu='hist', method_cov='hist')\n",
    "\n",
    "# Define the asset bounds and constraints\n",
    "port.ainequality = None\n",
    "port.binequality = None\n",
    "port.lowerbound = 0.05\n",
    "port.upperbound = 0.5\n",
    "port.budget = 1\n",
    "\n",
    "# Optimize the portfolio using ERP\n",
    "model = 'Classic' # Could be 'Classic' (historical), 'BL' (Black Litterman), or 'FM' (Factor Model)\n",
    "rm = 'MV' # Risk measure could be 'MV' (variance), 'MAD' (mean absolute deviation), or 'MSV' (semi-variance)\n",
    "rf = 0.0 # Risk-free rate\n",
    "b = None # Risk budgeting vector (None for ERP)\n",
    "\n",
    "w = port.rp_optimization(model=model, rm=rm, rf=rf, b=b)\n",
    "\n",
    "# Print the optimal weights\n",
    "print(\"\\nOptimal Weights:\")\n",
    "print(w.T)"
   ]
  },
  {
   "cell_type": "code",
   "execution_count": 116,
   "metadata": {},
   "outputs": [
    {
     "name": "stdout",
     "output_type": "stream",
     "text": [
      "\n",
      "Monthly Stock Returns\n",
      "Ticker          AVGO      CRWD       GCT      KNSL      NVDA       PDD   \n",
      "Date                                                                     \n",
      "2022-09-30 -10.2937%  -9.7476% -30.9898%   0.7256% -19.5534% -12.2300%  \\\n",
      "2022-10-31   5.8805%  -2.1904% -53.7092%  23.3928%  11.1871% -12.3841%   \n",
      "2022-11-30  17.2105% -27.0161%  57.4786%  -2.1669%  25.4155%  49.6261%   \n",
      "2022-12-31   2.3166% -10.5057% -22.7951% -15.1488% -13.6442%  -0.5973%   \n",
      "2023-01-31   4.6286%   0.5794%   2.8119%   6.4699%  33.6869%  20.1471%   \n",
      "2023-02-28   1.5863%  13.9660% -13.5043%  14.5098%  18.8309% -10.4613%   \n",
      "2023-03-31   8.7276%  13.7294%  24.5059%  -5.8205%  19.6662% -13.4846%   \n",
      "2023-04-30  -2.3443% -12.5382% -12.2222%   8.8489%  -0.1008% -10.2108%   \n",
      "2023-05-31  28.9641%  33.3861%  22.0615%  -7.2210%  36.3436%  -4.1526%   \n",
      "2023-06-30   7.9325%  -8.2808%   0.1482%  23.5065%  11.8210%   5.8481%   \n",
      "2023-07-31   3.5991%  10.0701%  29.2899%  -0.4196%  10.4652%  29.9103%   \n",
      "2023-08-31   2.6974%   0.8475%  43.1350%   7.0165%   5.6196%  10.1870%   \n",
      "2023-09-30  -9.5121%   2.6682% -29.5763%   3.8883% -11.8578%  -0.9094%   \n",
      "2023-10-31   1.2991%   5.6100%   7.4915% -19.3707%  -6.2507%   3.4159%   \n",
      "2023-11-30  10.0265%  34.0669%   2.6399%   4.8883%  14.6886%  45.3757%   \n",
      "2023-12-31  21.1350%   7.7345%  88.2202%  -4.3388%   5.8934%  -0.7664%   \n",
      "2024-01-31   5.7111%  14.5621%  21.4539%  18.7095%  24.2418% -13.2869%   \n",
      "2024-02-29  10.2110%  10.8205%  68.5419%  29.8721%  28.5809%  -1.8365%   \n",
      "2024-03-31  -4.8043%  -1.0150% -21.1749%  -0.6374%  13.0071%   2.5213%   \n",
      "\n",
      "Ticker          SMCI      SNOW  \n",
      "Date                            \n",
      "2022-09-30 -15.3811%  -6.0735%  \n",
      "2022-10-31  26.3664%  -5.6837%  \n",
      "2022-11-30  29.6594% -10.8547%  \n",
      "2022-12-31  -9.0103%   0.4479%  \n",
      "2023-01-31 -11.9001%   8.9870%  \n",
      "2023-02-28  35.4486%  -1.3168%  \n",
      "2023-03-31   8.7578%  -0.0583%  \n",
      "2023-04-30  -1.0512%  -4.0249%  \n",
      "2023-05-31 112.4158%  11.6694%  \n",
      "2023-06-30  11.2972%   6.4223%  \n",
      "2023-07-31  32.5055%   0.9831%  \n",
      "2023-08-31 -16.7106% -11.7382%  \n",
      "2023-09-30  -0.3126%  -2.6012%  \n",
      "2023-10-31 -12.6723%  -5.0010%  \n",
      "2023-11-30  14.1980%  29.3185%  \n",
      "2023-12-31   3.9456%   6.0315%  \n",
      "2024-01-31  86.3118%  -1.6884%  \n",
      "2024-02-29  63.5392%  -3.7620%  \n",
      "2024-03-31   5.1783% -16.2418%  \n"
     ]
    }
   ],
   "source": [
    "print(\"\\nMonthly Stock Returns\")\n",
    "print(returns)"
   ]
  },
  {
   "cell_type": "code",
   "execution_count": 117,
   "metadata": {},
   "outputs": [
    {
     "name": "stdout",
     "output_type": "stream",
     "text": [
      "Volatility:\n",
      "        Monthly Volatility  Annual Volatility\n",
      "Ticker                                       \n",
      "AVGO               9.6873%           33.5578%\n",
      "CRWD              14.9919%           51.9333%\n",
      "GCT               36.7900%          127.4442%\n",
      "KNSL              13.0827%           45.3196%\n",
      "NVDA              15.8875%           55.0358%\n",
      "PDD               18.9735%           65.7262%\n",
      "SMCI              35.3095%          122.3157%\n",
      "SNOW              10.0255%           34.7295%\n"
     ]
    }
   ],
   "source": [
    "# Calculate monthly volatility\n",
    "monthly_volatility = returns.std()\n",
    "\n",
    "# Calculate annual volatility\n",
    "annual_volatility = monthly_volatility * np.sqrt(12)\n",
    "\n",
    "# Create a DataFrame to store volatility values\n",
    "volatility_df = pd.DataFrame({'Monthly Volatility': monthly_volatility,\n",
    "                              'Annual Volatility': annual_volatility})\n",
    "\n",
    "# Print the volatility DataFrame\n",
    "print(\"Volatility:\")\n",
    "print(volatility_df)\n"
   ]
  }
 ],
 "metadata": {
  "kernelspec": {
   "display_name": "Python 3",
   "language": "python",
   "name": "python3"
  },
  "language_info": {
   "codemirror_mode": {
    "name": "ipython",
    "version": 3
   },
   "file_extension": ".py",
   "mimetype": "text/x-python",
   "name": "python",
   "nbconvert_exporter": "python",
   "pygments_lexer": "ipython3",
   "version": "3.11.7"
  }
 },
 "nbformat": 4,
 "nbformat_minor": 2
}
