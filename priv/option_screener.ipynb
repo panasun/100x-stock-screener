{
  "cells": [
    {
      "cell_type": "markdown",
      "metadata": {
        "id": "3pqVR8fsfuye"
      },
      "source": [
        "# Trend Screener"
      ]
    },
    {
      "cell_type": "code",
      "execution_count": 47,
      "metadata": {
        "colab": {
          "base_uri": "https://localhost:8080/"
        },
        "id": "hZxVcDuKfcfN",
        "outputId": "545b3541-d328-45e3-e1ed-5c81da43115b"
      },
      "outputs": [
        {
          "name": "stdout",
          "output_type": "stream",
          "text": [
            "Requirement already satisfied: arch in /home/panasun/Projects/panasun/100x-stock-screener/.venv/lib/python3.10/site-packages (7.1.0)\n",
            "Requirement already satisfied: scipy in /home/panasun/Projects/panasun/100x-stock-screener/.venv/lib/python3.10/site-packages (1.14.1)\n",
            "Requirement already satisfied: yfinance in /home/panasun/Projects/panasun/100x-stock-screener/.venv/lib/python3.10/site-packages (0.2.41)\n",
            "Requirement already satisfied: pandas in /home/panasun/Projects/panasun/100x-stock-screener/.venv/lib/python3.10/site-packages (2.2.2)\n",
            "Requirement already satisfied: numpy in /home/panasun/Projects/panasun/100x-stock-screener/.venv/lib/python3.10/site-packages (2.1.1)\n",
            "Collecting QuantLib-Python\n",
            "  Downloading QuantLib_Python-1.18-py2.py3-none-any.whl.metadata (1.0 kB)\n",
            "Requirement already satisfied: statsmodels>=0.12 in /home/panasun/Projects/panasun/100x-stock-screener/.venv/lib/python3.10/site-packages (from arch) (0.14.3)\n",
            "Requirement already satisfied: requests>=2.31 in /home/panasun/Projects/panasun/100x-stock-screener/.venv/lib/python3.10/site-packages (from yfinance) (2.32.3)\n",
            "Requirement already satisfied: multitasking>=0.0.7 in /home/panasun/Projects/panasun/100x-stock-screener/.venv/lib/python3.10/site-packages (from yfinance) (0.0.11)\n",
            "Requirement already satisfied: lxml>=4.9.1 in /home/panasun/Projects/panasun/100x-stock-screener/.venv/lib/python3.10/site-packages (from yfinance) (5.2.2)\n",
            "Requirement already satisfied: platformdirs>=2.0.0 in /home/panasun/Projects/panasun/100x-stock-screener/.venv/lib/python3.10/site-packages (from yfinance) (4.2.2)\n",
            "Requirement already satisfied: pytz>=2022.5 in /home/panasun/Projects/panasun/100x-stock-screener/.venv/lib/python3.10/site-packages (from yfinance) (2024.1)\n",
            "Requirement already satisfied: frozendict>=2.3.4 in /home/panasun/Projects/panasun/100x-stock-screener/.venv/lib/python3.10/site-packages (from yfinance) (2.4.4)\n",
            "Requirement already satisfied: peewee>=3.16.2 in /home/panasun/Projects/panasun/100x-stock-screener/.venv/lib/python3.10/site-packages (from yfinance) (3.17.6)\n",
            "Requirement already satisfied: beautifulsoup4>=4.11.1 in /home/panasun/Projects/panasun/100x-stock-screener/.venv/lib/python3.10/site-packages (from yfinance) (4.12.3)\n",
            "Requirement already satisfied: html5lib>=1.1 in /home/panasun/Projects/panasun/100x-stock-screener/.venv/lib/python3.10/site-packages (from yfinance) (1.1)\n",
            "Requirement already satisfied: python-dateutil>=2.8.2 in /home/panasun/Projects/panasun/100x-stock-screener/.venv/lib/python3.10/site-packages (from pandas) (2.9.0.post0)\n",
            "Requirement already satisfied: tzdata>=2022.7 in /home/panasun/Projects/panasun/100x-stock-screener/.venv/lib/python3.10/site-packages (from pandas) (2024.1)\n",
            "Collecting QuantLib (from QuantLib-Python)\n",
            "  Downloading QuantLib-1.35-cp38-abi3-manylinux_2_17_x86_64.manylinux2014_x86_64.whl.metadata (1.1 kB)\n",
            "Requirement already satisfied: soupsieve>1.2 in /home/panasun/Projects/panasun/100x-stock-screener/.venv/lib/python3.10/site-packages (from beautifulsoup4>=4.11.1->yfinance) (2.5)\n",
            "Requirement already satisfied: six>=1.9 in /home/panasun/Projects/panasun/100x-stock-screener/.venv/lib/python3.10/site-packages (from html5lib>=1.1->yfinance) (1.16.0)\n",
            "Requirement already satisfied: webencodings in /home/panasun/Projects/panasun/100x-stock-screener/.venv/lib/python3.10/site-packages (from html5lib>=1.1->yfinance) (0.5.1)\n",
            "Requirement already satisfied: charset-normalizer<4,>=2 in /home/panasun/Projects/panasun/100x-stock-screener/.venv/lib/python3.10/site-packages (from requests>=2.31->yfinance) (3.3.2)\n",
            "Requirement already satisfied: idna<4,>=2.5 in /home/panasun/Projects/panasun/100x-stock-screener/.venv/lib/python3.10/site-packages (from requests>=2.31->yfinance) (3.7)\n",
            "Requirement already satisfied: urllib3<3,>=1.21.1 in /home/panasun/Projects/panasun/100x-stock-screener/.venv/lib/python3.10/site-packages (from requests>=2.31->yfinance) (2.2.2)\n",
            "Requirement already satisfied: certifi>=2017.4.17 in /home/panasun/Projects/panasun/100x-stock-screener/.venv/lib/python3.10/site-packages (from requests>=2.31->yfinance) (2024.7.4)\n",
            "Requirement already satisfied: patsy>=0.5.6 in /home/panasun/Projects/panasun/100x-stock-screener/.venv/lib/python3.10/site-packages (from statsmodels>=0.12->arch) (0.5.6)\n",
            "Requirement already satisfied: packaging>=21.3 in /home/panasun/Projects/panasun/100x-stock-screener/.venv/lib/python3.10/site-packages (from statsmodels>=0.12->arch) (24.1)\n",
            "Downloading QuantLib_Python-1.18-py2.py3-none-any.whl (1.4 kB)\n",
            "Downloading QuantLib-1.35-cp38-abi3-manylinux_2_17_x86_64.manylinux2014_x86_64.whl (19.6 MB)\n",
            "\u001b[2K   \u001b[90m━━━━━━━━━━━━━━━━━━━━━━━━━━━━━━━━━━━━━━━━\u001b[0m \u001b[32m19.6/19.6 MB\u001b[0m \u001b[31m2.0 MB/s\u001b[0m eta \u001b[36m0:00:00\u001b[0m00:01\u001b[0m00:01\u001b[0m\n",
            "\u001b[?25hInstalling collected packages: QuantLib, QuantLib-Python\n",
            "Successfully installed QuantLib-1.35 QuantLib-Python-1.18\n",
            "\n",
            "\u001b[1m[\u001b[0m\u001b[34;49mnotice\u001b[0m\u001b[1;39;49m]\u001b[0m\u001b[39;49m A new release of pip is available: \u001b[0m\u001b[31;49m24.1.2\u001b[0m\u001b[39;49m -> \u001b[0m\u001b[32;49m24.2\u001b[0m\n",
            "\u001b[1m[\u001b[0m\u001b[34;49mnotice\u001b[0m\u001b[1;39;49m]\u001b[0m\u001b[39;49m To update, run: \u001b[0m\u001b[32;49mpip install --upgrade pip\u001b[0m\n",
            "Note: you may need to restart the kernel to use updated packages.\n"
          ]
        }
      ],
      "source": [
        "pip install arch scipy yfinance pandas numpy QuantLib-Python"
      ]
    },
    {
      "cell_type": "code",
      "execution_count": 45,
      "metadata": {},
      "outputs": [],
      "source": [
        "import datetime as dt\n",
        "import pandas as pd\n",
        "import yfinance as yf\n",
        "import numpy as np\n",
        "from arch import arch_model\n",
        "from scipy.stats import norm\n",
        "import QuantLib as ql"
      ]
    },
    {
      "cell_type": "code",
      "execution_count": 78,
      "metadata": {
        "colab": {
          "base_uri": "https://localhost:8080/"
        },
        "id": "EKTE1US9fyqp",
        "outputId": "af162298-17b3-4ad6-b968-4e949759467d"
      },
      "outputs": [
        {
          "name": "stdout",
          "output_type": "stream",
          "text": [
            "         contractSymbol             lastTradeDate  strike  lastPrice     bid  \\\n",
            "0   AAPL241004C00100000 2024-09-16 18:59:10+00:00   100.0     116.70  127.70   \n",
            "1   AAPL241004C00105000 2024-09-16 18:59:10+00:00   105.0     111.70  122.45   \n",
            "2   AAPL241004C00125000 2024-09-27 17:21:27+00:00   125.0     103.05  102.70   \n",
            "3   AAPL241004C00135000 2024-09-26 19:31:38+00:00   135.0      92.86   91.80   \n",
            "4   AAPL241004C00140000 2024-09-26 15:15:04+00:00   140.0      87.39   87.75   \n",
            "..                  ...                       ...     ...        ...     ...   \n",
            "86  AAPL241004P00250000 2024-09-27 19:37:30+00:00   250.0      22.30   21.60   \n",
            "87  AAPL241004P00255000 2024-09-27 18:56:34+00:00   255.0      26.92   27.00   \n",
            "88  AAPL241004P00265000 2024-09-27 19:45:08+00:00   265.0      37.35   36.90   \n",
            "89  AAPL241004P00275000 2024-09-19 19:50:00+00:00   275.0      45.95   46.85   \n",
            "90  AAPL241004P00300000 2024-09-24 15:12:51+00:00   300.0      72.55   71.85   \n",
            "\n",
            "       ask    change  percentChange  volume  openInterest  impliedVolatility  \\\n",
            "0   128.30  0.000000       0.000000     1.0             8           2.609378   \n",
            "1   123.30  0.000000       0.000000     NaN             2           2.210942   \n",
            "2   103.35  6.700005       6.953819     1.0             2           1.984375   \n",
            "3    93.30  0.000000       0.000000     3.0             4           1.975586   \n",
            "4    88.35  0.000000       0.000000     2.0             6           1.667970   \n",
            "..     ...       ...            ...     ...           ...                ...   \n",
            "86   22.60  0.049999       0.224716    21.0            19           0.437506   \n",
            "87   27.65 -0.379999      -1.391938     2.0             2           0.521001   \n",
            "88   37.65  0.039997       0.107202     2.0             2           0.655277   \n",
            "89   47.60  0.000000       0.000000     NaN             0           0.761721   \n",
            "90   72.70  0.000000       0.000000     6.0             0           0.808596   \n",
            "\n",
            "    inTheMoney contractSize currency optionType underlyingSymbol  \n",
            "0         True      REGULAR      USD          C             AAPL  \n",
            "1         True      REGULAR      USD          C             AAPL  \n",
            "2         True      REGULAR      USD          C             AAPL  \n",
            "3         True      REGULAR      USD          C             AAPL  \n",
            "4         True      REGULAR      USD          C             AAPL  \n",
            "..         ...          ...      ...        ...              ...  \n",
            "86        True      REGULAR      USD          P             AAPL  \n",
            "87        True      REGULAR      USD          P             AAPL  \n",
            "88        True      REGULAR      USD          P             AAPL  \n",
            "89        True      REGULAR      USD          P             AAPL  \n",
            "90        True      REGULAR      USD          P             AAPL  \n",
            "\n",
            "[91 rows x 16 columns]\n"
          ]
        }
      ],
      "source": [
        "symbol = \"AAPL\"\n",
        "\n",
        "def process_expiration(exp_td_str):\n",
        "    options = tk.option_chain(exp_td_str)\n",
        "    \n",
        "    calls = options.calls\n",
        "    puts = options.puts\n",
        "    \n",
        "    # Add optionType column\n",
        "    calls['optionType'] = 'C'\n",
        "    puts['optionType'] = 'P'\n",
        "    \n",
        "    # Merge calls and puts into a single dataframe\n",
        "    exp_data = pd.concat(objs=[calls, puts], ignore_index=True)\n",
        "    \n",
        "    return exp_data\n",
        "\n",
        "\n",
        "tk = yf.Ticker(symbol)\n",
        "expirations = tk.options\n",
        "\n",
        "# Create empty DataFrame, then add individual expiration data to it\n",
        "data = pd.DataFrame()\n",
        "\n",
        "for exp_td_str in expirations[:1]:\n",
        "    exp_data = process_expiration(exp_td_str)\n",
        "    data = pd.concat(objs=[data, exp_data], ignore_index=True)\n",
        "    \n",
        "# Add underlyingSymbol column\n",
        "data['underlyingSymbol'] = symbol\n",
        "\n",
        "print(data)"
      ]
    },
    {
      "cell_type": "code",
      "execution_count": 91,
      "metadata": {},
      "outputs": [
        {
          "name": "stdout",
          "output_type": "stream",
          "text": [
            "The European option price using Heston model: 0.2961\n"
          ]
        }
      ],
      "source": [
        "\n",
        "def price_heston_option(\n",
        "    spot_price, \n",
        "    strike_price, \n",
        "    risk_free_rate, \n",
        "    dividend_yield, \n",
        "    initial_volatility, \n",
        "    expiry, \n",
        "    kappa, \n",
        "    theta, \n",
        "    sigma, \n",
        "    rho, \n",
        "    option_type='call'\n",
        "):\n",
        "    spot_handle = ql.QuoteHandle(ql.SimpleQuote(spot_price))\n",
        "    rate_handle = ql.YieldTermStructureHandle(\n",
        "        ql.FlatForward(0, ql.NullCalendar(), ql.QuoteHandle(ql.SimpleQuote(risk_free_rate)), ql.Actual360())\n",
        "    )\n",
        "    dividend_handle = ql.YieldTermStructureHandle(\n",
        "        ql.FlatForward(0, ql.NullCalendar(), ql.QuoteHandle(ql.SimpleQuote(dividend_yield)), ql.Actual360())\n",
        "    )\n",
        "\n",
        "    heston_process = ql.HestonProcess(\n",
        "        rate_handle,  # Risk-free rate\n",
        "        dividend_handle,  # Dividend yield\n",
        "        spot_handle,  # Initial stock price\n",
        "        initial_volatility ** 2,  # Initial variance (square of initial volatility)\n",
        "        kappa,  # Mean reversion speed\n",
        "        theta,  # Long-term variance\n",
        "        sigma,  # Volatility of volatility\n",
        "        rho  # Correlation\n",
        "    )\n",
        "    heston_model = ql.HestonModel(heston_process)\n",
        "\n",
        "    expiry_date = ql.Date().todaysDate() + ql.Period(int(expiry), ql.Days)\n",
        "    exercise = ql.EuropeanExercise(expiry_date)\n",
        "    payoff_type = ql.Option.Call if option_type.lower() == 'call' else ql.Option.Put\n",
        "    payoff = ql.PlainVanillaPayoff(payoff_type, strike_price)\n",
        "    european_option = ql.VanillaOption(payoff, exercise)\n",
        "\n",
        "    engine = ql.AnalyticHestonEngine(heston_model)\n",
        "    european_option.setPricingEngine(engine)\n",
        "\n",
        "    option_price = european_option.NPV()\n",
        "    return option_price\n",
        "\n",
        "option_price = price_heston_option(\n",
        "    spot_price=2.82,\n",
        "    strike_price=3,\n",
        "    risk_free_rate=0.05,\n",
        "    dividend_yield=0.0,\n",
        "    initial_volatility=0.72,\n",
        "    expiry=20,\n",
        "    kappa=1.0,\n",
        "    theta=1.0,\n",
        "    sigma=0.1,\n",
        "    rho=-0.5,\n",
        "    option_type='put'\n",
        ")\n",
        "\n",
        "print(f\"The European option price using Heston model: {option_price:.4f}\")\n"
      ]
    },
    {
      "cell_type": "code",
      "execution_count": 105,
      "metadata": {},
      "outputs": [
        {
          "name": "stderr",
          "output_type": "stream",
          "text": [
            "[*********************100%%**********************]  1 of 1 completed"
          ]
        },
        {
          "name": "stdout",
          "output_type": "stream",
          "text": [
            "Date\n",
            "2023-09-28    0.737346\n",
            "2023-09-29    0.678313\n",
            "2023-10-02    0.630495\n",
            "2023-10-03    0.588064\n",
            "2023-10-04    0.589789\n",
            "                ...   \n",
            "2024-09-20    0.705578\n",
            "2024-09-23    0.710067\n",
            "2024-09-24    0.653299\n",
            "2024-09-25    0.624334\n",
            "2024-09-26    0.608075\n",
            "Name: cond_vol, Length: 251, dtype: float64\n"
          ]
        },
        {
          "name": "stderr",
          "output_type": "stream",
          "text": [
            "\n"
          ]
        }
      ],
      "source": [
        "def fetch_and_calculate_garch_volatility(ticker, start_date, end_date, p=1, q=1):\n",
        "    \"\"\"\n",
        "    Fetch historical stock price data, calculate daily returns, and compute GARCH volatility.\n",
        "    \n",
        "    Parameters:\n",
        "    - ticker: The stock ticker symbol (e.g., 'AAPL').\n",
        "    - start_date: The start date for fetching data (format 'YYYY-MM-DD').\n",
        "    - end_date: The end date for fetching data (format 'YYYY-MM-DD').\n",
        "    - p: The order of the GARCH term.\n",
        "    - q: The order of the ARCH term.\n",
        "    \n",
        "    Returns:\n",
        "    - A pandas Series of estimated conditional volatilities.\n",
        "    \"\"\"\n",
        "    \n",
        "    # Fetch historical stock price data\n",
        "    stock_data = yf.download(ticker, start=start_date, end=end_date)\n",
        "\n",
        "    # Calculate daily returns\n",
        "    returns = stock_data['Adj Close'].pct_change().dropna()\n",
        "\n",
        "    # Fit GARCH model and calculate volatility\n",
        "    model = arch_model(returns, vol='Garch', p=p, q=q, rescale=True)\n",
        "    model_fit = model.fit(disp=\"off\")\n",
        "    daily_volatility = model_fit.conditional_volatility\n",
        "\n",
        "    # Convert to annual volatility (assuming approximately 252 trading days)\n",
        "    annual_volatility = daily_volatility * np.sqrt(252) / 10\n",
        "\n",
        "    annual_volatility.std()\n",
        "    \n",
        "    return annual_volatility\n",
        "\n",
        "ticker = 'CLOV'\n",
        "start_date = '2024-06-27'\n",
        "end_date = '2024-09-27'\n",
        "    \n",
        "volatilities = fetch_and_calculate_garch_volatility(ticker, start_date, end_date, p=1, q=1)\n",
        "print(volatilities)"
      ]
    },
    {
      "cell_type": "code",
      "execution_count": 73,
      "metadata": {},
      "outputs": [
        {
          "name": "stdout",
          "output_type": "stream",
          "text": [
            "The European option price using Monte Carlo simulation: 0.1521\n"
          ]
        }
      ],
      "source": [
        "import QuantLib as ql\n",
        "\n",
        "# Option parameters\n",
        "spot_price = 2.82  # Current stock price\n",
        "strike_price = 3  # Option strike price\n",
        "risk_free_rate = 0.05  # Risk-free interest rate\n",
        "dividend_yield = 0.0  # Dividend yield\n",
        "initial_volatility = 0.61  # Volatility of the underlying asset\n",
        "expiry = 20  # Time to expiry in years (1 year)\n",
        "\n",
        "# Set the evaluation date\n",
        "today = ql.Date.todaysDate()\n",
        "ql.Settings.instance().evaluationDate = today\n",
        "\n",
        "# Create the underlying asset and its parameters\n",
        "initial_value = ql.QuoteHandle(ql.SimpleQuote(spot_price))\n",
        "risk_free_ts = ql.YieldTermStructureHandle(ql.FlatForward(today, ql.QuoteHandle(ql.SimpleQuote(risk_free_rate)), ql.Actual365Fixed()))\n",
        "dividend_ts = ql.YieldTermStructureHandle(ql.FlatForward(today, ql.QuoteHandle(ql.SimpleQuote(dividend_yield)), ql.Actual365Fixed()))\n",
        "volatility = ql.BlackVolTermStructureHandle(ql.BlackConstantVol(today, ql.NullCalendar(), ql.QuoteHandle(ql.SimpleQuote(initial_volatility)), ql.Actual365Fixed()))\n",
        "\n",
        "# Create the Black-Scholes Merton process\n",
        "process = ql.BlackScholesMertonProcess(initial_value, dividend_ts, risk_free_ts, volatility)\n",
        "\n",
        "# Define the number of time steps and paths for the Monte Carlo simulation\n",
        "steps = 100\n",
        "num_paths = 100000\n",
        "rng = \"pseudorandom\"  # could use \"lowdiscrepancy\"\n",
        "\n",
        "# Set up the Monte Carlo engine\n",
        "engine = ql.MCEuropeanEngine(process, rng, steps, requiredSamples=num_paths)\n",
        "\n",
        "# Create the European option\n",
        "expiry_date = today + ql.Period(int(expiry), ql.Days)  # Expiry date\n",
        "exercise = ql.EuropeanExercise(expiry_date)\n",
        "payoff = ql.PlainVanillaPayoff(ql.Option.Call, strike_price)\n",
        "european_option = ql.VanillaOption(payoff, exercise)\n",
        "\n",
        "# Set the pricing engine\n",
        "european_option.setPricingEngine(engine)\n",
        "\n",
        "# Calculate the option price\n",
        "option_price = european_option.NPV()\n",
        "print(f\"The European option price using Monte Carlo simulation: {option_price:.4f}\")\n"
      ]
    }
  ],
  "metadata": {
    "colab": {
      "provenance": []
    },
    "kernelspec": {
      "display_name": "Python 3",
      "name": "python3"
    },
    "language_info": {
      "codemirror_mode": {
        "name": "ipython",
        "version": 3
      },
      "file_extension": ".py",
      "mimetype": "text/x-python",
      "name": "python",
      "nbconvert_exporter": "python",
      "pygments_lexer": "ipython3",
      "version": "3.10.12"
    }
  },
  "nbformat": 4,
  "nbformat_minor": 0
}
