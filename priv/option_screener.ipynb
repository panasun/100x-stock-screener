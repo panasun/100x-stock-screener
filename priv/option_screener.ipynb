{
  "cells": [
    {
      "cell_type": "markdown",
      "metadata": {
        "id": "3pqVR8fsfuye"
      },
      "source": [
        "# Trend Screener"
      ]
    },
    {
      "cell_type": "code",
      "execution_count": 426,
      "metadata": {
        "colab": {
          "base_uri": "https://localhost:8080/"
        },
        "id": "hZxVcDuKfcfN",
        "outputId": "545b3541-d328-45e3-e1ed-5c81da43115b"
      },
      "outputs": [
        {
          "name": "stdout",
          "output_type": "stream",
          "text": [
            "Requirement already satisfied: arch in /home/panasun/Projects/panasun/100x-stock-screener/.venv/lib/python3.10/site-packages (7.1.0)\n",
            "Requirement already satisfied: scipy in /home/panasun/Projects/panasun/100x-stock-screener/.venv/lib/python3.10/site-packages (1.14.1)\n",
            "Requirement already satisfied: yfinance in /home/panasun/Projects/panasun/100x-stock-screener/.venv/lib/python3.10/site-packages (0.2.41)\n",
            "Requirement already satisfied: pandas in /home/panasun/Projects/panasun/100x-stock-screener/.venv/lib/python3.10/site-packages (2.2.2)\n",
            "Requirement already satisfied: numpy in /home/panasun/Projects/panasun/100x-stock-screener/.venv/lib/python3.10/site-packages (2.1.1)\n",
            "Requirement already satisfied: QuantLib-Python in /home/panasun/Projects/panasun/100x-stock-screener/.venv/lib/python3.10/site-packages (1.18)\n",
            "Requirement already satisfied: statsmodels>=0.12 in /home/panasun/Projects/panasun/100x-stock-screener/.venv/lib/python3.10/site-packages (from arch) (0.14.3)\n",
            "Requirement already satisfied: requests>=2.31 in /home/panasun/Projects/panasun/100x-stock-screener/.venv/lib/python3.10/site-packages (from yfinance) (2.32.3)\n",
            "Requirement already satisfied: multitasking>=0.0.7 in /home/panasun/Projects/panasun/100x-stock-screener/.venv/lib/python3.10/site-packages (from yfinance) (0.0.11)\n",
            "Requirement already satisfied: lxml>=4.9.1 in /home/panasun/Projects/panasun/100x-stock-screener/.venv/lib/python3.10/site-packages (from yfinance) (5.2.2)\n",
            "Requirement already satisfied: platformdirs>=2.0.0 in /home/panasun/Projects/panasun/100x-stock-screener/.venv/lib/python3.10/site-packages (from yfinance) (4.2.2)\n",
            "Requirement already satisfied: pytz>=2022.5 in /home/panasun/Projects/panasun/100x-stock-screener/.venv/lib/python3.10/site-packages (from yfinance) (2024.1)\n",
            "Requirement already satisfied: frozendict>=2.3.4 in /home/panasun/Projects/panasun/100x-stock-screener/.venv/lib/python3.10/site-packages (from yfinance) (2.4.4)\n",
            "Requirement already satisfied: peewee>=3.16.2 in /home/panasun/Projects/panasun/100x-stock-screener/.venv/lib/python3.10/site-packages (from yfinance) (3.17.6)\n",
            "Requirement already satisfied: beautifulsoup4>=4.11.1 in /home/panasun/Projects/panasun/100x-stock-screener/.venv/lib/python3.10/site-packages (from yfinance) (4.12.3)\n",
            "Requirement already satisfied: html5lib>=1.1 in /home/panasun/Projects/panasun/100x-stock-screener/.venv/lib/python3.10/site-packages (from yfinance) (1.1)\n",
            "Requirement already satisfied: python-dateutil>=2.8.2 in /home/panasun/Projects/panasun/100x-stock-screener/.venv/lib/python3.10/site-packages (from pandas) (2.9.0.post0)\n",
            "Requirement already satisfied: tzdata>=2022.7 in /home/panasun/Projects/panasun/100x-stock-screener/.venv/lib/python3.10/site-packages (from pandas) (2024.1)\n",
            "Requirement already satisfied: QuantLib in /home/panasun/Projects/panasun/100x-stock-screener/.venv/lib/python3.10/site-packages (from QuantLib-Python) (1.35)\n",
            "Requirement already satisfied: soupsieve>1.2 in /home/panasun/Projects/panasun/100x-stock-screener/.venv/lib/python3.10/site-packages (from beautifulsoup4>=4.11.1->yfinance) (2.5)\n",
            "Requirement already satisfied: six>=1.9 in /home/panasun/Projects/panasun/100x-stock-screener/.venv/lib/python3.10/site-packages (from html5lib>=1.1->yfinance) (1.16.0)\n",
            "Requirement already satisfied: webencodings in /home/panasun/Projects/panasun/100x-stock-screener/.venv/lib/python3.10/site-packages (from html5lib>=1.1->yfinance) (0.5.1)\n",
            "Requirement already satisfied: charset-normalizer<4,>=2 in /home/panasun/Projects/panasun/100x-stock-screener/.venv/lib/python3.10/site-packages (from requests>=2.31->yfinance) (3.3.2)\n",
            "Requirement already satisfied: idna<4,>=2.5 in /home/panasun/Projects/panasun/100x-stock-screener/.venv/lib/python3.10/site-packages (from requests>=2.31->yfinance) (3.7)\n",
            "Requirement already satisfied: urllib3<3,>=1.21.1 in /home/panasun/Projects/panasun/100x-stock-screener/.venv/lib/python3.10/site-packages (from requests>=2.31->yfinance) (2.2.2)\n",
            "Requirement already satisfied: certifi>=2017.4.17 in /home/panasun/Projects/panasun/100x-stock-screener/.venv/lib/python3.10/site-packages (from requests>=2.31->yfinance) (2024.7.4)\n",
            "Requirement already satisfied: patsy>=0.5.6 in /home/panasun/Projects/panasun/100x-stock-screener/.venv/lib/python3.10/site-packages (from statsmodels>=0.12->arch) (0.5.6)\n",
            "Requirement already satisfied: packaging>=21.3 in /home/panasun/Projects/panasun/100x-stock-screener/.venv/lib/python3.10/site-packages (from statsmodels>=0.12->arch) (24.1)\n",
            "\n",
            "\u001b[1m[\u001b[0m\u001b[34;49mnotice\u001b[0m\u001b[1;39;49m]\u001b[0m\u001b[39;49m A new release of pip is available: \u001b[0m\u001b[31;49m24.1.2\u001b[0m\u001b[39;49m -> \u001b[0m\u001b[32;49m24.2\u001b[0m\n",
            "\u001b[1m[\u001b[0m\u001b[34;49mnotice\u001b[0m\u001b[1;39;49m]\u001b[0m\u001b[39;49m To update, run: \u001b[0m\u001b[32;49mpip install --upgrade pip\u001b[0m\n",
            "Note: you may need to restart the kernel to use updated packages.\n"
          ]
        }
      ],
      "source": [
        "pip install arch scipy yfinance pandas numpy QuantLib-Python"
      ]
    },
    {
      "cell_type": "code",
      "execution_count": 427,
      "metadata": {},
      "outputs": [],
      "source": [
        "import datetime as dt\n",
        "import pandas as pd\n",
        "import yfinance as yf\n",
        "import numpy as np\n",
        "from arch import arch_model\n",
        "from scipy.stats import norm\n",
        "import QuantLib as ql\n",
        "from datetime import datetime\n",
        "from multiprocessing import Pool, cpu_count\n",
        "from concurrent.futures import ThreadPoolExecutor, as_completed"
      ]
    },
    {
      "cell_type": "code",
      "execution_count": 428,
      "metadata": {},
      "outputs": [
        {
          "name": "stderr",
          "output_type": "stream",
          "text": [
            "[*********************100%%**********************]  5 of 5 completed\n"
          ]
        }
      ],
      "source": [
        "tickers = ['CLOV', 'ASTS', 'WGS', 'NSSC', 'AAPL']\n",
        "\n",
        "risk_free_rate = 0.05\n",
        "\n",
        "end_date = '2024-09-27'\n",
        "\n",
        "start_date_1d = (pd.to_datetime(end_date) - pd.DateOffset(days=1)).strftime('%Y-%m-%d')\n",
        "start_date_3m = (pd.to_datetime(end_date) - pd.DateOffset(months=3)).strftime('%Y-%m-%d')\n",
        "start_date_12m = (pd.to_datetime(end_date) - pd.DateOffset(months=12)).strftime('%Y-%m-%d')\n",
        "\n",
        "\n",
        "stock_price = yf.download(tickers, start = start_date_1d, end = end_date)"
      ]
    },
    {
      "cell_type": "code",
      "execution_count": 429,
      "metadata": {
        "colab": {
          "base_uri": "https://localhost:8080/"
        },
        "id": "EKTE1US9fyqp",
        "outputId": "af162298-17b3-4ad6-b968-4e949759467d"
      },
      "outputs": [],
      "source": [
        "def process_expiration(tk, exp_td_str):\n",
        "    options = tk.option_chain(exp_td_str)\n",
        "    \n",
        "    calls = options.calls\n",
        "    puts = options.puts\n",
        "    \n",
        "    calls['optionType'] = 'call'\n",
        "    puts['optionType'] = 'put'\n",
        "    \n",
        "    exp_data = pd.concat(objs=[calls, puts], ignore_index=True)\n",
        "\n",
        "    \n",
        "    return exp_data\n",
        "\n",
        "\n",
        "def fetch_option_price(ticker):\n",
        "    tk = yf.Ticker(ticker)\n",
        "    expirations = tk.options\n",
        "\n",
        "    data = pd.DataFrame()\n",
        "\n",
        "    for exp_td_str in expirations:\n",
        "        exp_data = process_expiration(tk, exp_td_str)\n",
        "        data = pd.concat(objs=[data, exp_data], ignore_index=True)\n",
        "\n",
        "    data['close'] = tk.history(period='1d')['Close'].iloc[-1]\n",
        "\n",
        "    return data\n",
        "\n",
        "ticker = \"AAPL\"\n",
        "option_data = fetch_option_price(ticker)"
      ]
    },
    {
      "cell_type": "code",
      "execution_count": null,
      "metadata": {},
      "outputs": [],
      "source": [
        "\n",
        "def price_heston_option(\n",
        "    spot_price, \n",
        "    strike_price, \n",
        "    risk_free_rate, \n",
        "    dividend_yield, \n",
        "    initial_volatility, \n",
        "    expiry, \n",
        "    kappa, \n",
        "    theta, \n",
        "    sigma, \n",
        "    rho, \n",
        "    option_type='call'\n",
        "):\n",
        "    spot_handle = ql.QuoteHandle(ql.SimpleQuote(spot_price))\n",
        "    rate_handle = ql.YieldTermStructureHandle(\n",
        "        ql.FlatForward(0, ql.NullCalendar(), ql.QuoteHandle(ql.SimpleQuote(risk_free_rate)), ql.Actual360())\n",
        "    )\n",
        "    dividend_handle = ql.YieldTermStructureHandle(\n",
        "        ql.FlatForward(0, ql.NullCalendar(), ql.QuoteHandle(ql.SimpleQuote(dividend_yield)), ql.Actual360())\n",
        "    )\n",
        "\n",
        "    heston_process = ql.HestonProcess(\n",
        "        rate_handle,  # Risk-free rate\n",
        "        dividend_handle,  # Dividend yield\n",
        "        spot_handle,  # Initial stock price\n",
        "        initial_volatility ** 2,  # Initial variance (square of initial volatility)\n",
        "        kappa,  # Mean reversion speed\n",
        "        theta,  # Long-term variance\n",
        "        sigma,  # Volatility of volatility\n",
        "        rho  # Correlation\n",
        "    )\n",
        "    heston_model = ql.HestonModel(heston_process)\n",
        "\n",
        "    expiry_date = ql.Date().todaysDate() + ql.Period(int(expiry), ql.Days)\n",
        "    exercise = ql.EuropeanExercise(expiry_date)\n",
        "    payoff_type = ql.Option.Call if option_type.lower() == 'call' else ql.Option.Put\n",
        "    payoff = ql.PlainVanillaPayoff(payoff_type, strike_price)\n",
        "    european_option = ql.VanillaOption(payoff, exercise)\n",
        "\n",
        "    engine = ql.AnalyticHestonEngine(heston_model)\n",
        "    european_option.setPricingEngine(engine)\n",
        "\n",
        "    option_price = european_option.NPV()\n",
        "    return option_price"
      ]
    },
    {
      "cell_type": "code",
      "execution_count": null,
      "metadata": {},
      "outputs": [],
      "source": [
        "def fetch_and_calculate_garch_volatility(ticker, start_date, end_date, p=1, q=1):\n",
        "    \"\"\"\n",
        "    Fetch historical stock price data, calculate daily returns, and compute GARCH volatility.\n",
        "    \n",
        "    Parameters:\n",
        "    - ticker: The stock ticker symbol (e.g., 'AAPL').\n",
        "    - start_date: The start date for fetching data (format 'YYYY-MM-DD').\n",
        "    - end_date: The end date for fetching data (format 'YYYY-MM-DD').\n",
        "    - p: The order of the GARCH term.\n",
        "    - q: The order of the ARCH term.\n",
        "    \n",
        "    Returns:\n",
        "    - A pandas Series of estimated conditional volatilities.\n",
        "    \"\"\"\n",
        "    \n",
        "    # Fetch historical stock price data\n",
        "    stock_data = yf.download(ticker, start=start_date, end=end_date)\n",
        "\n",
        "    # Calculate daily returns\n",
        "    returns = stock_data['Adj Close'].pct_change().dropna()\n",
        "\n",
        "    # Fit GARCH model and calculate volatility\n",
        "    model = arch_model(returns, vol='Garch', p=p, q=q, rescale=True)\n",
        "    model_fit = model.fit(disp=\"off\")\n",
        "    daily_volatility = model_fit.conditional_volatility\n",
        "\n",
        "    # Convert to annual volatility (assuming approximately 252 trading days)\n",
        "    annual_volatility = daily_volatility * np.sqrt(252) / 10\n",
        "\n",
        "    return annual_volatility"
      ]
    },
    {
      "cell_type": "code",
      "execution_count": null,
      "metadata": {},
      "outputs": [
        {
          "name": "stderr",
          "output_type": "stream",
          "text": [
            "[*********************100%%**********************]  1 of 1 completed"
          ]
        },
        {
          "name": "stderr",
          "output_type": "stream",
          "text": [
            "\n",
            "[*********************100%%**********************]  1 of 1 completed"
          ]
        },
        {
          "name": "stdout",
          "output_type": "stream",
          "text": [
            "CLOV\n"
          ]
        },
        {
          "name": "stderr",
          "output_type": "stream",
          "text": [
            "\n",
            "[*********************100%%**********************]  1 of 1 completed\n",
            "[*********************100%%**********************]  1 of 1 completed"
          ]
        },
        {
          "name": "stdout",
          "output_type": "stream",
          "text": [
            "ASTS\n"
          ]
        },
        {
          "name": "stderr",
          "output_type": "stream",
          "text": [
            "\n",
            "[*********************100%%**********************]  1 of 1 completed\n",
            "[*********************100%%**********************]  1 of 1 completed"
          ]
        },
        {
          "name": "stdout",
          "output_type": "stream",
          "text": [
            "WGS\n"
          ]
        },
        {
          "name": "stderr",
          "output_type": "stream",
          "text": [
            "\n",
            "[*********************100%%**********************]  1 of 1 completed\n",
            "[*********************100%%**********************]  1 of 1 completed"
          ]
        },
        {
          "name": "stdout",
          "output_type": "stream",
          "text": [
            "NSSC\n"
          ]
        },
        {
          "name": "stderr",
          "output_type": "stream",
          "text": [
            "\n",
            "[*********************100%%**********************]  1 of 1 completed\n",
            "[*********************100%%**********************]  1 of 1 completed"
          ]
        },
        {
          "name": "stdout",
          "output_type": "stream",
          "text": [
            "AAPL\n"
          ]
        },
        {
          "name": "stderr",
          "output_type": "stream",
          "text": [
            "\n"
          ]
        }
      ],
      "source": [
        "\n",
        "def calc_expiry_day(ticker, option_symbol):\n",
        "    option_symbol_clean = option_symbol.replace(ticker, '')\n",
        "    expiration_code = option_symbol_clean[:6]\n",
        "\n",
        "    year = '20' + expiration_code[:2]\n",
        "    month = expiration_code[2:4]\n",
        "    day = expiration_code[4:6]\n",
        "\n",
        "    expiration_date = f\"{year}-{month}-{day}\"\n",
        "    expiry = (pd.to_datetime(expiration_date).tz_localize('UTC') - pd.to_datetime(end_date).tz_localize('UTC')).days\n",
        "\n",
        "    return expiry\n",
        "\n",
        "def screen_option(ticker):\n",
        "    try:\n",
        "        volatilities = fetch_and_calculate_garch_volatility(ticker, start_date_3m, end_date, p=1, q=1)\n",
        "        long_term_volatilities = fetch_and_calculate_garch_volatility(ticker, start_date_12m, end_date, p=1, q=1)\n",
        "        vol_of_vol = volatilities.std()\n",
        "        option_prices = fetch_option_price(ticker)\n",
        "\n",
        "        option_df = pd.DataFrame(option_prices)\n",
        "\n",
        "        for index, row in option_df.iterrows():\n",
        "            expiry_day = calc_expiry_day(ticker, row['contractSymbol'])\n",
        "\n",
        "            price_theory = price_heston_option(\n",
        "                spot_price=float(row['close']),\n",
        "                strike_price=float(row['strike']),\n",
        "                risk_free_rate=risk_free_rate,\n",
        "                dividend_yield=0.0,\n",
        "                initial_volatility=volatilities.iloc[-1],\n",
        "                expiry=expiry_day,\n",
        "                kappa=1.0,\n",
        "                theta=long_term_volatilities.iloc[-1],\n",
        "                sigma=vol_of_vol,\n",
        "                rho=-0.5,\n",
        "                option_type=row['optionType']\n",
        "            )\n",
        "\n",
        "            option_df.at[index, 'priceTheory'] = price_theory\n",
        "            option_df.at[index, 'garchVol'] = volatilities.iloc[-1]\n",
        "\n",
        "\n",
        "        return option_df\n",
        "    except Exception as e:\n",
        "        print(f\"Error processing {ticker}: {e}\")\n",
        "        return ticker, pd.DataFrame()\n",
        "\n",
        "def screen_all_options(tickers):\n",
        "    all_options_df = pd.DataFrame()\n",
        "\n",
        "    for ticker in tickers:\n",
        "        print(ticker)\n",
        "        options_df = screen_option(ticker)\n",
        "        options_df['ticker'] = ticker\n",
        "        if not options_df.empty:\n",
        "            all_options_df = pd.concat([all_options_df, options_df], ignore_index=True)\n",
        "\n",
        "    return all_options_df\n",
        "\n",
        "options_data = screen_all_options(tickers)"
      ]
    },
    {
      "cell_type": "code",
      "execution_count": null,
      "metadata": {},
      "outputs": [
        {
          "name": "stdout",
          "output_type": "stream",
          "text": [
            "           contractSymbol             lastTradeDate  strike  lastPrice    bid  \\\n",
            "0     CLOV241004C00001000 2024-09-20 15:19:34+00:00     1.0       1.99   1.38   \n",
            "1     CLOV241004C00002000 2024-09-27 18:38:08+00:00     2.0       0.80   0.79   \n",
            "2     CLOV241004C00002500 2024-09-27 19:04:52+00:00     2.5       0.34   0.32   \n",
            "3     CLOV241004C00003000 2024-09-27 19:59:55+00:00     3.0       0.05   0.05   \n",
            "4     CLOV241004C00003500 2024-09-27 19:48:48+00:00     3.5       0.01   0.01   \n",
            "...                   ...                       ...     ...        ...    ...   \n",
            "2636  AAPL270115P00220000 2024-09-26 15:29:32+00:00   220.0      23.80  23.00   \n",
            "2637  AAPL270115P00230000 2024-09-26 18:45:28+00:00   230.0      27.95  27.30   \n",
            "2638  AAPL270115P00240000 2024-09-24 18:12:30+00:00   240.0      33.00  30.80   \n",
            "2639  AAPL270115P00250000 2024-09-26 19:21:47+00:00   250.0      38.02  37.15   \n",
            "2640  AAPL270115P00260000 2024-09-27 15:04:50+00:00   260.0      43.50  42.95   \n",
            "\n",
            "        ask  change  percentChange  volume  openInterest  ...  currency  \\\n",
            "0      2.22    0.00       0.000000     4.0           4.0  ...       USD   \n",
            "1      0.89   -0.06      -6.976745     5.0         104.0  ...       USD   \n",
            "2      0.34   -0.02      -5.555558    40.0        5182.0  ...       USD   \n",
            "3      0.06   -0.04     -44.444447  1749.0        2284.0  ...       USD   \n",
            "4      0.02   -0.01     -50.000000  3000.0        2981.0  ...       USD   \n",
            "...     ...     ...            ...     ...           ...  ...       ...   \n",
            "2636  24.20    0.00       0.000000     3.0          66.0  ...       USD   \n",
            "2637  29.10    0.00       0.000000    13.0          19.0  ...       USD   \n",
            "2638  33.25    0.00       0.000000   100.0          86.0  ...       USD   \n",
            "2639  39.90    0.00       0.000000    12.0          12.0  ...       USD   \n",
            "2640  44.55    0.00       0.000000   100.0         101.0  ...       USD   \n",
            "\n",
            "     optionType       close priceTheory  garchVol  ticker  buySignal  \\\n",
            "0          call    2.820000    1.820972  0.724076    CLOV      False   \n",
            "1          call    2.820000    0.821971  0.724076    CLOV      False   \n",
            "2          call    2.820000    0.337807  0.724076    CLOV      False   \n",
            "3          call    2.820000    0.048864  0.724076    CLOV      False   \n",
            "4          call    2.820000    0.001713  0.724076    CLOV      False   \n",
            "...         ...         ...         ...       ...     ...        ...   \n",
            "2636        put  227.789993  158.210369  2.016093    AAPL       True   \n",
            "2637        put  227.789993  166.231628  2.016093    AAPL       True   \n",
            "2638        put  227.789993  174.277285  2.016093    AAPL       True   \n",
            "2639        put  227.789993  182.345857  2.016093    AAPL       True   \n",
            "2640        put  227.789993  190.436001  2.016093    AAPL       True   \n",
            "\n",
            "      sellSignal signal    reward  \n",
            "0          False   None  0.000000  \n",
            "1          False   None  0.000000  \n",
            "2          False   None  0.000000  \n",
            "3          False   None  0.000000  \n",
            "4          False   None  0.000000  \n",
            "...          ...    ...       ...  \n",
            "2636       False    BUY  5.537619  \n",
            "2637       False    BUY  4.712427  \n",
            "2638       False    BUY  4.241422  \n",
            "2639       False    BUY  3.570072  \n",
            "2640       False    BUY  3.274658  \n",
            "\n",
            "[2641 rows x 23 columns]\n"
          ]
        }
      ],
      "source": [
        "for index, row in options_data.iterrows():\n",
        "  signal = None\n",
        "  reward = 0\n",
        "\n",
        "  if row['priceTheory'] * 1.5 <= row['bid'] and \\\n",
        "      row['priceTheory'] >= 0.1 and row['bid'] >=0.15 :\n",
        "    signal = \"SELL\"\n",
        "    reward = (row['bid'] - row['priceTheory']) / row['priceTheory']\n",
        "  elif row['ask'] * 1.5 <= row['priceTheory'] and \\\n",
        "      row['priceTheory'] > 0.1 and row['ask'] >= 0.15:\n",
        "    signal = \"BUY\"\n",
        "    reward = (row['priceTheory'] - row['ask']) / row['ask']\n",
        "\n",
        "  options_data.loc[index, 'signal'] = signal\n",
        "  options_data.loc[index, 'reward'] = reward\n",
        "\n",
        "summary_df = pd.DataFrame(options_data)\n",
        "summary_df.to_csv('options_chain.csv')\n",
        "\n",
        "print(summary_df)"
      ]
    }
  ],
  "metadata": {
    "colab": {
      "provenance": []
    },
    "kernelspec": {
      "display_name": "Python 3",
      "name": "python3"
    },
    "language_info": {
      "codemirror_mode": {
        "name": "ipython",
        "version": 3
      },
      "file_extension": ".py",
      "mimetype": "text/x-python",
      "name": "python",
      "nbconvert_exporter": "python",
      "pygments_lexer": "ipython3",
      "version": "3.10.12"
    }
  },
  "nbformat": 4,
  "nbformat_minor": 0
}
