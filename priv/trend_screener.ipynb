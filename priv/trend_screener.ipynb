{
  "cells": [
    {
      "cell_type": "markdown",
      "metadata": {
        "id": "3pqVR8fsfuye"
      },
      "source": [
        "# Trend Screener"
      ]
    },
    {
      "cell_type": "code",
      "execution_count": 1,
      "metadata": {
        "colab": {
          "base_uri": "https://localhost:8080/"
        },
        "id": "hZxVcDuKfcfN",
        "outputId": "545b3541-d328-45e3-e1ed-5c81da43115b"
      },
      "outputs": [
        {
          "name": "stdout",
          "output_type": "stream",
          "text": [
            "\u001b[1;31merror\u001b[0m: \u001b[1mexternally-managed-environment\u001b[0m\n",
            "\n",
            "\u001b[31m×\u001b[0m This environment is externally managed\n",
            "\u001b[31m╰─>\u001b[0m To install Python packages system-wide, try brew install\n",
            "\u001b[31m   \u001b[0m xyz, where xyz is the package you are trying to\n",
            "\u001b[31m   \u001b[0m install.\n",
            "\u001b[31m   \u001b[0m \n",
            "\u001b[31m   \u001b[0m If you wish to install a Python library that isn't in Homebrew,\n",
            "\u001b[31m   \u001b[0m use a virtual environment:\n",
            "\u001b[31m   \u001b[0m \n",
            "\u001b[31m   \u001b[0m python3 -m venv path/to/venv\n",
            "\u001b[31m   \u001b[0m source path/to/venv/bin/activate\n",
            "\u001b[31m   \u001b[0m python3 -m pip install xyz\n",
            "\u001b[31m   \u001b[0m \n",
            "\u001b[31m   \u001b[0m If you wish to install a Python application that isn't in Homebrew,\n",
            "\u001b[31m   \u001b[0m it may be easiest to use 'pipx install xyz', which will manage a\n",
            "\u001b[31m   \u001b[0m virtual environment for you. You can install pipx with\n",
            "\u001b[31m   \u001b[0m \n",
            "\u001b[31m   \u001b[0m brew install pipx\n",
            "\u001b[31m   \u001b[0m \n",
            "\u001b[31m   \u001b[0m You may restore the old behavior of pip by passing\n",
            "\u001b[31m   \u001b[0m the '--break-system-packages' flag to pip, or by adding\n",
            "\u001b[31m   \u001b[0m 'break-system-packages = true' to your pip.conf file. The latter\n",
            "\u001b[31m   \u001b[0m will permanently disable this error.\n",
            "\u001b[31m   \u001b[0m \n",
            "\u001b[31m   \u001b[0m If you disable this error, we STRONGLY recommend that you additionally\n",
            "\u001b[31m   \u001b[0m pass the '--user' flag to pip, or set 'user = true' in your pip.conf\n",
            "\u001b[31m   \u001b[0m file. Failure to do this can result in a broken Homebrew installation.\n",
            "\u001b[31m   \u001b[0m \n",
            "\u001b[31m   \u001b[0m Read more about this behavior here: <https://peps.python.org/pep-0668/>\n",
            "\n",
            "\u001b[1;35mnote\u001b[0m: If you believe this is a mistake, please contact your Python installation or OS distribution provider. You can override this, at the risk of breaking your Python installation or OS, by passing --break-system-packages.\n",
            "\u001b[1;36mhint\u001b[0m: See PEP 668 for the detailed specification.\n",
            "\n",
            "\u001b[1m[\u001b[0m\u001b[34;49mnotice\u001b[0m\u001b[1;39;49m]\u001b[0m\u001b[39;49m A new release of pip is available: \u001b[0m\u001b[31;49m24.0\u001b[0m\u001b[39;49m -> \u001b[0m\u001b[32;49m24.1.2\u001b[0m\n",
            "\u001b[1m[\u001b[0m\u001b[34;49mnotice\u001b[0m\u001b[1;39;49m]\u001b[0m\u001b[39;49m To update, run: \u001b[0m\u001b[32;49mpython3.12 -m pip install --upgrade pip\u001b[0m\n",
            "Note: you may need to restart the kernel to use updated packages.\n"
          ]
        }
      ],
      "source": [
        "pip install \"yfinance[nospam]\" stocktrends matplotlib pandas numpy requests_cache"
      ]
    },
    {
      "cell_type": "code",
      "execution_count": 4,
      "metadata": {},
      "outputs": [],
      "source": [
        "#!/usr/bin/env pypy\n",
        "\n",
        "import yfinance as yf\n",
        "import pandas as pd\n",
        "import numpy as np\n",
        "# import requests_cache\n",
        "from multiprocessing import Pool, cpu_count\n",
        "import os\n",
        "from concurrent.futures import ThreadPoolExecutor, as_completed"
      ]
    },
    {
      "cell_type": "code",
      "execution_count": null,
      "metadata": {
        "colab": {
          "base_uri": "https://localhost:8080/"
        },
        "id": "EKTE1US9fyqp",
        "outputId": "af162298-17b3-4ad6-b968-4e949759467d"
      },
      "outputs": [
        {
          "name": "stderr",
          "output_type": "stream",
          "text": [
            "[                       1%%                      ]  77 of 5552 completed"
          ]
        },
        {
          "ename": "RuntimeError",
          "evalue": "can't start new thread",
          "output_type": "error",
          "traceback": [
            "\u001b[0;31m---------------------------------------------------------------------------\u001b[0m",
            "\u001b[0;31mRuntimeError\u001b[0m                              Traceback (most recent call last)",
            "Cell \u001b[0;32mIn[5], line 18\u001b[0m\n\u001b[1;32m     15\u001b[0m start \u001b[38;5;241m=\u001b[39m \u001b[38;5;124m'\u001b[39m\u001b[38;5;124m2023-03-29\u001b[39m\u001b[38;5;124m'\u001b[39m\n\u001b[1;32m     16\u001b[0m end \u001b[38;5;241m=\u001b[39m \u001b[38;5;124m'\u001b[39m\u001b[38;5;124m2024-07-29\u001b[39m\u001b[38;5;124m'\u001b[39m\n\u001b[0;32m---> 18\u001b[0m data \u001b[38;5;241m=\u001b[39m \u001b[43myf\u001b[49m\u001b[38;5;241;43m.\u001b[39;49m\u001b[43mdownload\u001b[49m\u001b[43m(\u001b[49m\u001b[43mtickers\u001b[49m\u001b[43m,\u001b[49m\u001b[43m \u001b[49m\u001b[43mstart\u001b[49m\u001b[43m \u001b[49m\u001b[38;5;241;43m=\u001b[39;49m\u001b[43m \u001b[49m\u001b[43mstart\u001b[49m\u001b[43m,\u001b[49m\u001b[43m \u001b[49m\u001b[43mend\u001b[49m\u001b[43m \u001b[49m\u001b[38;5;241;43m=\u001b[39;49m\u001b[43m \u001b[49m\u001b[43mend\u001b[49m\u001b[43m)\u001b[49m\n\u001b[1;32m     20\u001b[0m \u001b[38;5;28mprint\u001b[39m(data)\n",
            "File \u001b[0;32m/opt/homebrew/lib/python3.12/site-packages/yfinance/utils.py:103\u001b[0m, in \u001b[0;36mlog_indent_decorator.<locals>.wrapper\u001b[0;34m(*args, **kwargs)\u001b[0m\n\u001b[1;32m    100\u001b[0m logger\u001b[38;5;241m.\u001b[39mdebug(\u001b[38;5;124mf\u001b[39m\u001b[38;5;124m'\u001b[39m\u001b[38;5;124mEntering \u001b[39m\u001b[38;5;132;01m{\u001b[39;00mfunc\u001b[38;5;241m.\u001b[39m\u001b[38;5;18m__name__\u001b[39m\u001b[38;5;132;01m}\u001b[39;00m\u001b[38;5;124m()\u001b[39m\u001b[38;5;124m'\u001b[39m)\n\u001b[1;32m    102\u001b[0m \u001b[38;5;28;01mwith\u001b[39;00m IndentationContext():\n\u001b[0;32m--> 103\u001b[0m     result \u001b[38;5;241m=\u001b[39m \u001b[43mfunc\u001b[49m\u001b[43m(\u001b[49m\u001b[38;5;241;43m*\u001b[39;49m\u001b[43margs\u001b[49m\u001b[43m,\u001b[49m\u001b[43m \u001b[49m\u001b[38;5;241;43m*\u001b[39;49m\u001b[38;5;241;43m*\u001b[39;49m\u001b[43mkwargs\u001b[49m\u001b[43m)\u001b[49m\n\u001b[1;32m    105\u001b[0m logger\u001b[38;5;241m.\u001b[39mdebug(\u001b[38;5;124mf\u001b[39m\u001b[38;5;124m'\u001b[39m\u001b[38;5;124mExiting \u001b[39m\u001b[38;5;132;01m{\u001b[39;00mfunc\u001b[38;5;241m.\u001b[39m\u001b[38;5;18m__name__\u001b[39m\u001b[38;5;132;01m}\u001b[39;00m\u001b[38;5;124m()\u001b[39m\u001b[38;5;124m'\u001b[39m)\n\u001b[1;32m    106\u001b[0m \u001b[38;5;28;01mreturn\u001b[39;00m result\n",
            "File \u001b[0;32m/opt/homebrew/lib/python3.12/site-packages/yfinance/multi.py:156\u001b[0m, in \u001b[0;36mdownload\u001b[0;34m(tickers, start, end, actions, threads, ignore_tz, group_by, auto_adjust, back_adjust, repair, keepna, progress, period, show_errors, interval, prepost, proxy, rounding, timeout, session)\u001b[0m\n\u001b[1;32m    154\u001b[0m _multitasking\u001b[38;5;241m.\u001b[39mset_max_threads(threads)\n\u001b[1;32m    155\u001b[0m \u001b[38;5;28;01mfor\u001b[39;00m i, ticker \u001b[38;5;129;01min\u001b[39;00m \u001b[38;5;28menumerate\u001b[39m(tickers):\n\u001b[0;32m--> 156\u001b[0m     \u001b[43m_download_one_threaded\u001b[49m\u001b[43m(\u001b[49m\u001b[43mticker\u001b[49m\u001b[43m,\u001b[49m\u001b[43m \u001b[49m\u001b[43mperiod\u001b[49m\u001b[38;5;241;43m=\u001b[39;49m\u001b[43mperiod\u001b[49m\u001b[43m,\u001b[49m\u001b[43m \u001b[49m\u001b[43minterval\u001b[49m\u001b[38;5;241;43m=\u001b[39;49m\u001b[43minterval\u001b[49m\u001b[43m,\u001b[49m\n\u001b[1;32m    157\u001b[0m \u001b[43m                           \u001b[49m\u001b[43mstart\u001b[49m\u001b[38;5;241;43m=\u001b[39;49m\u001b[43mstart\u001b[49m\u001b[43m,\u001b[49m\u001b[43m \u001b[49m\u001b[43mend\u001b[49m\u001b[38;5;241;43m=\u001b[39;49m\u001b[43mend\u001b[49m\u001b[43m,\u001b[49m\u001b[43m \u001b[49m\u001b[43mprepost\u001b[49m\u001b[38;5;241;43m=\u001b[39;49m\u001b[43mprepost\u001b[49m\u001b[43m,\u001b[49m\n\u001b[1;32m    158\u001b[0m \u001b[43m                           \u001b[49m\u001b[43mactions\u001b[49m\u001b[38;5;241;43m=\u001b[39;49m\u001b[43mactions\u001b[49m\u001b[43m,\u001b[49m\u001b[43m \u001b[49m\u001b[43mauto_adjust\u001b[49m\u001b[38;5;241;43m=\u001b[39;49m\u001b[43mauto_adjust\u001b[49m\u001b[43m,\u001b[49m\n\u001b[1;32m    159\u001b[0m \u001b[43m                           \u001b[49m\u001b[43mback_adjust\u001b[49m\u001b[38;5;241;43m=\u001b[39;49m\u001b[43mback_adjust\u001b[49m\u001b[43m,\u001b[49m\u001b[43m \u001b[49m\u001b[43mrepair\u001b[49m\u001b[38;5;241;43m=\u001b[39;49m\u001b[43mrepair\u001b[49m\u001b[43m,\u001b[49m\u001b[43m \u001b[49m\u001b[43mkeepna\u001b[49m\u001b[38;5;241;43m=\u001b[39;49m\u001b[43mkeepna\u001b[49m\u001b[43m,\u001b[49m\n\u001b[1;32m    160\u001b[0m \u001b[43m                           \u001b[49m\u001b[43mprogress\u001b[49m\u001b[38;5;241;43m=\u001b[39;49m\u001b[43m(\u001b[49m\u001b[43mprogress\u001b[49m\u001b[43m \u001b[49m\u001b[38;5;129;43;01mand\u001b[39;49;00m\u001b[43m \u001b[49m\u001b[43mi\u001b[49m\u001b[43m \u001b[49m\u001b[38;5;241;43m>\u001b[39;49m\u001b[43m \u001b[49m\u001b[38;5;241;43m0\u001b[39;49m\u001b[43m)\u001b[49m\u001b[43m,\u001b[49m\u001b[43m \u001b[49m\u001b[43mproxy\u001b[49m\u001b[38;5;241;43m=\u001b[39;49m\u001b[43mproxy\u001b[49m\u001b[43m,\u001b[49m\n\u001b[1;32m    161\u001b[0m \u001b[43m                           \u001b[49m\u001b[43mrounding\u001b[49m\u001b[38;5;241;43m=\u001b[39;49m\u001b[43mrounding\u001b[49m\u001b[43m,\u001b[49m\u001b[43m \u001b[49m\u001b[43mtimeout\u001b[49m\u001b[38;5;241;43m=\u001b[39;49m\u001b[43mtimeout\u001b[49m\u001b[43m)\u001b[49m\n\u001b[1;32m    162\u001b[0m \u001b[38;5;28;01mwhile\u001b[39;00m \u001b[38;5;28mlen\u001b[39m(shared\u001b[38;5;241m.\u001b[39m_DFS) \u001b[38;5;241m<\u001b[39m \u001b[38;5;28mlen\u001b[39m(tickers):\n\u001b[1;32m    163\u001b[0m     _time\u001b[38;5;241m.\u001b[39msleep(\u001b[38;5;241m0.01\u001b[39m)\n",
            "File \u001b[0;32m/opt/homebrew/lib/python3.12/site-packages/multitasking/__init__.py:121\u001b[0m, in \u001b[0;36mtask.<locals>.async_method\u001b[0;34m(*args, **kwargs)\u001b[0m\n\u001b[1;32m    118\u001b[0m     single \u001b[38;5;241m=\u001b[39m config[\u001b[38;5;124m\"\u001b[39m\u001b[38;5;124mPOOLS\u001b[39m\u001b[38;5;124m\"\u001b[39m][config[\u001b[38;5;124m\"\u001b[39m\u001b[38;5;124mPOOL_NAME\u001b[39m\u001b[38;5;124m\"\u001b[39m]][\u001b[38;5;124m'\u001b[39m\u001b[38;5;124mengine\u001b[39m\u001b[38;5;124m'\u001b[39m](\n\u001b[1;32m    119\u001b[0m         target\u001b[38;5;241m=\u001b[39m_run_via_pool, args\u001b[38;5;241m=\u001b[39margs, kwargs\u001b[38;5;241m=\u001b[39mkwargs)\n\u001b[1;32m    120\u001b[0m config[\u001b[38;5;124m\"\u001b[39m\u001b[38;5;124mTASKS\u001b[39m\u001b[38;5;124m\"\u001b[39m]\u001b[38;5;241m.\u001b[39mappend(single)\n\u001b[0;32m--> 121\u001b[0m \u001b[43msingle\u001b[49m\u001b[38;5;241;43m.\u001b[39;49m\u001b[43mstart\u001b[49m\u001b[43m(\u001b[49m\u001b[43m)\u001b[49m\n\u001b[1;32m    122\u001b[0m \u001b[38;5;28;01mreturn\u001b[39;00m single\n",
            "File \u001b[0;32m/opt/homebrew/Cellar/python@3.12/3.12.3/Frameworks/Python.framework/Versions/3.12/lib/python3.12/threading.py:992\u001b[0m, in \u001b[0;36mThread.start\u001b[0;34m(self)\u001b[0m\n\u001b[1;32m    990\u001b[0m     _limbo[\u001b[38;5;28mself\u001b[39m] \u001b[38;5;241m=\u001b[39m \u001b[38;5;28mself\u001b[39m\n\u001b[1;32m    991\u001b[0m \u001b[38;5;28;01mtry\u001b[39;00m:\n\u001b[0;32m--> 992\u001b[0m     \u001b[43m_start_new_thread\u001b[49m\u001b[43m(\u001b[49m\u001b[38;5;28;43mself\u001b[39;49m\u001b[38;5;241;43m.\u001b[39;49m\u001b[43m_bootstrap\u001b[49m\u001b[43m,\u001b[49m\u001b[43m \u001b[49m\u001b[43m(\u001b[49m\u001b[43m)\u001b[49m\u001b[43m)\u001b[49m\n\u001b[1;32m    993\u001b[0m \u001b[38;5;28;01mexcept\u001b[39;00m \u001b[38;5;167;01mException\u001b[39;00m:\n\u001b[1;32m    994\u001b[0m     \u001b[38;5;28;01mwith\u001b[39;00m _active_limbo_lock:\n",
            "\u001b[0;31mRuntimeError\u001b[0m: can't start new thread"
          ]
        },
        {
          "name": "stderr",
          "output_type": "stream",
          "text": [
            "[**********************75%%**********            ]  4144 of 5552 completed"
          ]
        }
      ],
      "source": [
        "# session = requests_cache.CachedSession('yfinance.cache')\n",
        "# session.headers['User-agent'] = 'Mozilla/5.0 (compatible; MSIE 7.0; Windows; U; Windows NT 10.4; Win64; x64; en-US Trident/4.0)'\n",
        "\n",
        "results = []\n",
        "\n",
        "tickers_txt_path = 'trend_screener_ticker.txt'\n",
        "\n",
        "try:\n",
        "    with open(tickers_txt_path, 'r') as file:\n",
        "        tickers = [line.strip() for line in file if line.strip()]\n",
        "except Exception as e:\n",
        "    print(f\"Error reading tickers from text file: {e}\")\n",
        "    tickers = []\n",
        "\n",
        "start = '2023-03-29'\n",
        "end = '2024-07-29'\n",
        "\n",
        "data = yf.download(tickers, start = start, end = end)\n",
        "\n",
        "print(data)"
      ]
    },
    {
      "cell_type": "code",
      "execution_count": null,
      "metadata": {},
      "outputs": [],
      "source": [
        "def ehlers_instantaneous_trendline(source, alpha=0.07):\n",
        "    itrend = np.zeros_like(source)\n",
        "    trigger = np.zeros_like(source)\n",
        "\n",
        "    for i in range(len(source)):\n",
        "        if i < 7:\n",
        "            itrend[i] = (source.iloc[i] + (2 * source.iloc[i - 1]) + source.iloc[i - 2]) / 4\n",
        "        else:\n",
        "            itrend[i] = (\n",
        "                ((alpha - (alpha ** 2 / 4)) * source.iloc[i]) +\n",
        "                (0.5 * alpha ** 2 * source.iloc[i - 1]) -\n",
        "                ((alpha - (0.75 * alpha ** 2)) * source.iloc[i - 2]) +\n",
        "                (2 * (1 - alpha) * itrend[i - 1]) -\n",
        "                ((1 - alpha) ** 2 * itrend[i - 2])\n",
        "            )\n",
        "\n",
        "        if i >= 2:\n",
        "            trigger[i] = (2 * itrend[i]) - itrend[i - 2]\n",
        "\n",
        "    return itrend\n",
        "\n",
        "def calculate_trend(df):\n",
        "    df['52W_High'] = df['High'][-317:].rolling(window=252).max()\n",
        "    df['52W_High_Ratio'] = df['High'][-1:] / df['52W_High'][-1:]\n",
        "    df['52W_ROC'] = (df['High'][-317:] - df['High'].shift(252)) / df['High'].shift(252)\n",
        "    \n",
        "    df['52W_Low'] = df['Low'][-252:].rolling(window=252).min()\n",
        "    df['52W_Low_Ratio'] = df['Low'][-1:] / df['52W_Low'][-1:]\n",
        "\n",
        "\n",
        "    df['26W_High'] = df['High'].rolling(window=126).max()\n",
        "    df['26W_High_Ratio'] = df['High'] / df['26W_High']\n",
        "    df['26W_ROC'] = (df['High'][-146:] - df['High'].shift(126)) / df['High'].shift(252)\n",
        "\n",
        "    df['50MA'] = df['Adj Close'][-51:].rolling(window=50).mean()\n",
        "    df['150MA'] = df['Adj Close'][-151:].rolling(window=150).mean()\n",
        "    df['200MA'] = df['Adj Close'][-282:].rolling(window=200).mean()\n",
        "\n",
        "    df['MA_Uptrend'] = (\n",
        "        (df['Adj Close'][-2:] > df['50MA'][-2:]) & \n",
        "        (df['50MA'][-2:] > df['150MA'][-2:]) &\n",
        "        (df['150MA'][-2:] > df['200MA'][-2:]) &\n",
        "        (df['50MA'][-2:].diff() > 0) &\n",
        "        (df['150MA'][-2:].diff() > 0) &\n",
        "        (df['200MA'][-2:].diff() > 0)\n",
        "    )\n",
        "\n",
        "    df['200MA_Uptrend'] = df['200MA'][-81:].diff() > 0\n",
        "    df['200MA_1M_Uptrend'] = df['200MA_Uptrend'][-20:].rolling(window=20).mean() * 100\n",
        "    df['200MA_4M_Uptrend'] = df['200MA_Uptrend'][-80:].rolling(window=80).mean() * 100\n",
        "\n",
        "    itrend = ehlers_instantaneous_trendline(df['Adj Close'])\n",
        "    df['ITrend'] = itrend\n",
        "    df['ITrend_Uptrend'] = df['ITrend'][-2:].diff() > 0\n",
        "\n",
        "    df['Stop_Loss'] = 1 - df['50MA'][-1:] / df['Adj Close'][-1:]\n",
        "\n",
        "    return df\n",
        "\n",
        "def process_trend(ticker):\n",
        "    try:\n",
        "        print(f\"process trend {ticker}\")\n",
        "        ticker_df = pd.DataFrame(data['Adj Close'][ticker])\n",
        "        ticker_df['High'] = data['High'][ticker]\n",
        "        ticker_df['Low'] = data['Low'][ticker]\n",
        "        ticker_df = ticker_df.rename(columns={ticker: 'Adj Close'})\n",
        "        ticker_df = calculate_trend(ticker_df)\n",
        "\n",
        "        return ticker, ticker_df\n",
        "    except Exception as e:\n",
        "        print(f\"Error calculating trend for {ticker}: {e}\")\n",
        "        return ticker, None\n",
        "\n",
        "results = {}\n",
        "\n",
        "with Pool(processes=cpu_count()) as pool:\n",
        "    trend_results = pool.map(process_trend, tickers)\n",
        "\n",
        "for ticker, result in trend_results:\n",
        "    if result is not None:\n",
        "        results[ticker] = result\n",
        "\n",
        "roc52w_data = pd.DataFrame({ticker: df['52W_ROC'] for ticker, df in results.items()})\n",
        "roc52w_ranks = roc52w_data.rank(axis=1)\n",
        "roc52w_ranks = roc52w_ranks.div(len(roc52w_ranks.columns))\n",
        "\n",
        "roc26w_data = pd.DataFrame({ticker: df['26W_ROC'] for ticker, df in results.items()})\n",
        "roc26w_ranks = roc26w_data.rank(axis=1)\n",
        "roc26w_ranks = roc26w_ranks.div(len(roc26w_ranks.columns))\n",
        "\n",
        "def process_rs(ticker):\n",
        "    try:\n",
        "        print(f\"process rs {ticker}\")\n",
        "        results[ticker]['RS52W'] = roc52w_ranks[ticker]\n",
        "        results[ticker]['RS52W_13W'] = results[ticker]['RS52W'].rolling(window=65).mean()\n",
        "\n",
        "        results[ticker]['RS26W'] = roc26w_ranks[ticker]\n",
        "        results[ticker]['RS26W_4W'] = results[ticker]['RS26W'].rolling(window=20).mean()\n",
        "    except Exception as e:\n",
        "        print(f\"Error adding RS for {ticker}: {e}\")\n",
        "\n",
        "with ThreadPoolExecutor(max_workers=20) as executor:\n",
        "    futures = {executor.submit(process_rs, ticker): ticker for ticker in tickers}\n",
        "    for future in as_completed(futures):\n",
        "        future.result()\n"
      ]
    },
    {
      "cell_type": "code",
      "execution_count": null,
      "metadata": {},
      "outputs": [],
      "source": [
        "summary_data = {}\n",
        "for ticker, df in results.items():\n",
        "    latest_data = df.iloc[-1]\n",
        "    g = df.iloc[-1]['ITrend'] / df.iloc[-2]['ITrend'] - 1\n",
        "    risk_reward = g / df.iloc[-1]['Stop_Loss']\n",
        "    buy_signal = latest_data['52W_High_Ratio'] >= 0.75 and \\\n",
        "        latest_data['52W_Low_Ratio'] >= 1.25 and \\\n",
        "        latest_data['MA_Uptrend'] and \\\n",
        "        latest_data['ITrend_Uptrend'] and \\\n",
        "        g * 100 > 0.5 and \\\n",
        "        latest_data['RS26W'] >= 0.7 and \\\n",
        "        latest_data['RS26W_4W'] >= 0.6 and \\\n",
        "        latest_data['RS52W'] >= 0.7 and \\\n",
        "        latest_data['RS52W_13W'] >= 0.6 and \\\n",
        "        latest_data['Stop_Loss'] >= 0.02 and \\\n",
        "        latest_data['Stop_Loss'] <= 0.12 and \\\n",
        "        risk_reward * 10 >= 1.0 \n",
        "\n",
        "    # if uptrend:\n",
        "    summary_data[ticker] = {\n",
        "        'Ticker': ticker,\n",
        "        '52W_High_Ratio': round(latest_data['52W_High_Ratio'], 2),\n",
        "        '52W_ROC': round(latest_data['52W_ROC'], 2),\n",
        "        '26W_High_Ratio': round(latest_data['26W_High_Ratio'], 2),\n",
        "        '26W_ROC': round(latest_data['26W_ROC'], 2),\n",
        "        'RS52W': round(latest_data['RS52W'], 2),\n",
        "        'RS52W_13W': round(latest_data['RS52W_13W'], 2),\n",
        "        'RS26W': round(latest_data['RS26W'], 2),\n",
        "        'RS26W_4W': round(latest_data['RS26W_4W'], 2),\n",
        "        'Trend_Ratio': round(latest_data['ITrend']/ latest_data['200MA'] * 100, 2),\n",
        "        'Stop_Loss_Pct': round(latest_data['Stop_Loss'] * 100, 2),\n",
        "        'g_Daily_Pct': round(g * 100, 4),\n",
        "        'Risk_Reward_10D': round(risk_reward * 10, 2),\n",
        "        'MA_Uptrend': latest_data['MA_Uptrend'],\n",
        "        'ITrend_Uptrend': latest_data['ITrend_Uptrend'],\n",
        "        'Buy_Signal': buy_signal\n",
        "    }\n",
        "\n",
        "summary_df = pd.DataFrame(summary_data).T\n",
        "summary_df = summary_df.sort_values(by=['Buy_Signal', 'Trend_Ratio', 'Risk_Reward_10D', 'g_Daily_Pct', 'RS26W'], ascending=[False, True, False, False, False])\n",
        "\n",
        "summary_df.to_csv('filtered_stocks.csv', index=False)\n",
        "\n",
        "print(summary_df)"
      ]
    }
  ],
  "metadata": {
    "colab": {
      "provenance": []
    },
    "kernelspec": {
      "display_name": "Python 3",
      "name": "python3"
    },
    "language_info": {
      "codemirror_mode": {
        "name": "ipython",
        "version": 3
      },
      "file_extension": ".py",
      "mimetype": "text/x-python",
      "name": "python",
      "nbconvert_exporter": "python",
      "pygments_lexer": "ipython3",
      "version": "3.12.3"
    }
  },
  "nbformat": 4,
  "nbformat_minor": 0
}
