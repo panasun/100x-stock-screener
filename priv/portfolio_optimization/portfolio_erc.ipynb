{
 "cells": [
  {
   "cell_type": "code",
   "execution_count": 63,
   "metadata": {},
   "outputs": [
    {
     "name": "stdout",
     "output_type": "stream",
     "text": [
      "Requirement already satisfied: yfinance in /opt/homebrew/lib/python3.11/site-packages (0.2.37)\n",
      "Requirement already satisfied: riskfolio-lib in /opt/homebrew/lib/python3.11/site-packages (6.0.0)\n",
      "Requirement already satisfied: pandas>=1.3.0 in /opt/homebrew/lib/python3.11/site-packages (from yfinance) (2.0.0)\n",
      "Requirement already satisfied: numpy>=1.16.5 in /opt/homebrew/lib/python3.11/site-packages (from yfinance) (1.24.2)\n",
      "Requirement already satisfied: requests>=2.31 in /opt/homebrew/lib/python3.11/site-packages (from yfinance) (2.31.0)\n",
      "Requirement already satisfied: multitasking>=0.0.7 in /opt/homebrew/lib/python3.11/site-packages (from yfinance) (0.0.11)\n",
      "Requirement already satisfied: lxml>=4.9.1 in /opt/homebrew/lib/python3.11/site-packages (from yfinance) (4.9.2)\n",
      "Requirement already satisfied: appdirs>=1.4.4 in /opt/homebrew/lib/python3.11/site-packages (from yfinance) (1.4.4)\n",
      "Requirement already satisfied: pytz>=2022.5 in /opt/homebrew/lib/python3.11/site-packages (from yfinance) (2023.3)\n",
      "Requirement already satisfied: frozendict>=2.3.4 in /opt/homebrew/lib/python3.11/site-packages (from yfinance) (2.4.0)\n",
      "Requirement already satisfied: peewee>=3.16.2 in /opt/homebrew/lib/python3.11/site-packages (from yfinance) (3.17.1)\n",
      "Requirement already satisfied: beautifulsoup4>=4.11.1 in /Users/panasun/Library/Python/3.11/lib/python/site-packages (from yfinance) (4.12.0)\n",
      "Requirement already satisfied: html5lib>=1.1 in /opt/homebrew/lib/python3.11/site-packages (from yfinance) (1.1)\n",
      "Requirement already satisfied: scipy>=1.10.0 in /opt/homebrew/lib/python3.11/site-packages (from riskfolio-lib) (1.10.1)\n",
      "Requirement already satisfied: matplotlib>=3.7.0 in /opt/homebrew/lib/python3.11/site-packages (from riskfolio-lib) (3.7.1)\n",
      "Requirement already satisfied: clarabel>=0.6.0 in /opt/homebrew/lib/python3.11/site-packages (from riskfolio-lib) (0.7.1)\n",
      "Requirement already satisfied: cvxpy>=1.4.0 in /opt/homebrew/lib/python3.11/site-packages (from riskfolio-lib) (1.4.2)\n",
      "Requirement already satisfied: scikit-learn>=1.3.0 in /opt/homebrew/lib/python3.11/site-packages (from riskfolio-lib) (1.4.1.post1)\n",
      "Requirement already satisfied: statsmodels>=0.13.5 in /opt/homebrew/lib/python3.11/site-packages (from riskfolio-lib) (0.14.1)\n",
      "Requirement already satisfied: arch>=5.4 in /opt/homebrew/lib/python3.11/site-packages (from riskfolio-lib) (6.3.0)\n",
      "Requirement already satisfied: xlsxwriter>=3.1.2 in /opt/homebrew/lib/python3.11/site-packages (from riskfolio-lib) (3.2.0)\n",
      "Requirement already satisfied: networkx>=3.0 in /opt/homebrew/lib/python3.11/site-packages (from riskfolio-lib) (3.2.1)\n",
      "Requirement already satisfied: astropy>=5.1 in /opt/homebrew/lib/python3.11/site-packages (from riskfolio-lib) (6.0.0)\n",
      "Requirement already satisfied: pybind11>=2.10.1 in /opt/homebrew/lib/python3.11/site-packages (from riskfolio-lib) (2.11.1)\n",
      "Requirement already satisfied: pyerfa>=2.0 in /opt/homebrew/lib/python3.11/site-packages (from astropy>=5.1->riskfolio-lib) (2.0.1.1)\n",
      "Requirement already satisfied: astropy-iers-data>=0.2023.10.30.0.29.53 in /opt/homebrew/lib/python3.11/site-packages (from astropy>=5.1->riskfolio-lib) (0.2024.3.18.0.29.47)\n",
      "Requirement already satisfied: PyYAML>=3.13 in /Users/panasun/Library/Python/3.11/lib/python/site-packages (from astropy>=5.1->riskfolio-lib) (6.0)\n",
      "Requirement already satisfied: packaging>=19.0 in /Users/panasun/Library/Python/3.11/lib/python/site-packages (from astropy>=5.1->riskfolio-lib) (23.0)\n",
      "Requirement already satisfied: soupsieve>1.2 in /Users/panasun/Library/Python/3.11/lib/python/site-packages (from beautifulsoup4>=4.11.1->yfinance) (2.4)\n",
      "Requirement already satisfied: osqp>=0.6.2 in /opt/homebrew/lib/python3.11/site-packages (from cvxpy>=1.4.0->riskfolio-lib) (0.6.5)\n",
      "Requirement already satisfied: ecos>=2 in /opt/homebrew/lib/python3.11/site-packages (from cvxpy>=1.4.0->riskfolio-lib) (2.0.13)\n",
      "Requirement already satisfied: scs>=3.0 in /opt/homebrew/lib/python3.11/site-packages (from cvxpy>=1.4.0->riskfolio-lib) (3.2.4.post1)\n",
      "Requirement already satisfied: six>=1.9 in /Users/panasun/Library/Python/3.11/lib/python/site-packages (from html5lib>=1.1->yfinance) (1.16.0)\n",
      "Requirement already satisfied: webencodings in /Users/panasun/Library/Python/3.11/lib/python/site-packages (from html5lib>=1.1->yfinance) (0.5.1)\n",
      "Requirement already satisfied: contourpy>=1.0.1 in /opt/homebrew/lib/python3.11/site-packages (from matplotlib>=3.7.0->riskfolio-lib) (1.0.7)\n",
      "Requirement already satisfied: cycler>=0.10 in /opt/homebrew/lib/python3.11/site-packages (from matplotlib>=3.7.0->riskfolio-lib) (0.11.0)\n",
      "Requirement already satisfied: fonttools>=4.22.0 in /opt/homebrew/lib/python3.11/site-packages (from matplotlib>=3.7.0->riskfolio-lib) (4.39.3)\n",
      "Requirement already satisfied: kiwisolver>=1.0.1 in /opt/homebrew/lib/python3.11/site-packages (from matplotlib>=3.7.0->riskfolio-lib) (1.4.4)\n",
      "Requirement already satisfied: pillow>=6.2.0 in /opt/homebrew/lib/python3.11/site-packages (from matplotlib>=3.7.0->riskfolio-lib) (9.5.0)\n",
      "Requirement already satisfied: pyparsing>=2.3.1 in /opt/homebrew/lib/python3.11/site-packages (from matplotlib>=3.7.0->riskfolio-lib) (3.0.9)\n",
      "Requirement already satisfied: python-dateutil>=2.7 in /Users/panasun/Library/Python/3.11/lib/python/site-packages (from matplotlib>=3.7.0->riskfolio-lib) (2.8.2)\n",
      "Requirement already satisfied: tzdata>=2022.1 in /opt/homebrew/lib/python3.11/site-packages (from pandas>=1.3.0->yfinance) (2023.3)\n",
      "Requirement already satisfied: charset-normalizer<4,>=2 in /opt/homebrew/lib/python3.11/site-packages (from requests>=2.31->yfinance) (3.1.0)\n",
      "Requirement already satisfied: idna<4,>=2.5 in /Users/panasun/Library/Python/3.11/lib/python/site-packages (from requests>=2.31->yfinance) (3.4)\n",
      "Requirement already satisfied: urllib3<3,>=1.21.1 in /opt/homebrew/lib/python3.11/site-packages (from requests>=2.31->yfinance) (1.26.15)\n",
      "Requirement already satisfied: certifi>=2017.4.17 in /opt/homebrew/lib/python3.11/site-packages (from requests>=2.31->yfinance) (2022.12.7)\n",
      "Requirement already satisfied: joblib>=1.2.0 in /opt/homebrew/lib/python3.11/site-packages (from scikit-learn>=1.3.0->riskfolio-lib) (1.3.2)\n",
      "Requirement already satisfied: threadpoolctl>=2.0.0 in /opt/homebrew/lib/python3.11/site-packages (from scikit-learn>=1.3.0->riskfolio-lib) (3.3.0)\n",
      "Requirement already satisfied: patsy>=0.5.4 in /opt/homebrew/lib/python3.11/site-packages (from statsmodels>=0.13.5->riskfolio-lib) (0.5.6)\n",
      "Requirement already satisfied: qdldl in /opt/homebrew/lib/python3.11/site-packages (from osqp>=0.6.2->cvxpy>=1.4.0->riskfolio-lib) (0.1.7.post0)\n",
      "\n",
      "\u001b[1m[\u001b[0m\u001b[34;49mnotice\u001b[0m\u001b[1;39;49m]\u001b[0m\u001b[39;49m A new release of pip is available: \u001b[0m\u001b[31;49m23.3.1\u001b[0m\u001b[39;49m -> \u001b[0m\u001b[32;49m24.0\u001b[0m\n",
      "\u001b[1m[\u001b[0m\u001b[34;49mnotice\u001b[0m\u001b[1;39;49m]\u001b[0m\u001b[39;49m To update, run: \u001b[0m\u001b[32;49mpython3.11 -m pip install --upgrade pip\u001b[0m\n",
      "Note: you may need to restart the kernel to use updated packages.\n"
     ]
    }
   ],
   "source": [
    "pip install yfinance riskfolio-lib"
   ]
  },
  {
   "cell_type": "code",
   "execution_count": 1,
   "metadata": {},
   "outputs": [
    {
     "name": "stderr",
     "output_type": "stream",
     "text": [
      "[*********************100%%**********************]  8 of 8 completed\n"
     ]
    },
    {
     "name": "stdout",
     "output_type": "stream",
     "text": [
      "\n",
      "Optimal Weights:\n",
      "             AVGO      CRWD       GCT      KNSL      NVDA      PDD      SMCI   \n",
      "weights  0.151058  0.123807  0.051839  0.222632  0.085263  0.13649  0.046216  \\\n",
      "\n",
      "             SNOW  \n",
      "weights  0.182696  \n",
      "The problem doesn't have a solution with actual input parameters\n",
      "The problem doesn't have a solution with actual input parameters\n",
      "The problem doesn't have a solution with actual input parameters\n"
     ]
    },
    {
     "ename": "ValueError",
     "evalue": "All objects passed were None",
     "output_type": "error",
     "traceback": [
      "\u001b[0;31m---------------------------------------------------------------------------\u001b[0m",
      "\u001b[0;31mValueError\u001b[0m                                Traceback (most recent call last)",
      "Cell \u001b[0;32mIn[1], line 63\u001b[0m\n\u001b[1;32m     60\u001b[0m w_2 \u001b[38;5;241m=\u001b[39m port\u001b[38;5;241m.\u001b[39moptimization(model\u001b[38;5;241m=\u001b[39mmodel, rm\u001b[38;5;241m=\u001b[39mrm, obj\u001b[38;5;241m=\u001b[39mobj, kelly\u001b[38;5;241m=\u001b[39m\u001b[38;5;124m'\u001b[39m\u001b[38;5;124mapprox\u001b[39m\u001b[38;5;124m'\u001b[39m, rf\u001b[38;5;241m=\u001b[39mrf, l\u001b[38;5;241m=\u001b[39ml, hist\u001b[38;5;241m=\u001b[39mhist)\n\u001b[1;32m     61\u001b[0m w_3 \u001b[38;5;241m=\u001b[39m port\u001b[38;5;241m.\u001b[39moptimization(model\u001b[38;5;241m=\u001b[39mmodel, rm\u001b[38;5;241m=\u001b[39mrm, obj\u001b[38;5;241m=\u001b[39mobj, kelly\u001b[38;5;241m=\u001b[39m\u001b[38;5;124m'\u001b[39m\u001b[38;5;124mexact\u001b[39m\u001b[38;5;124m'\u001b[39m, rf\u001b[38;5;241m=\u001b[39mrf, l\u001b[38;5;241m=\u001b[39ml, hist\u001b[38;5;241m=\u001b[39mhist)\n\u001b[0;32m---> 63\u001b[0m w \u001b[38;5;241m=\u001b[39m \u001b[43mpd\u001b[49m\u001b[38;5;241;43m.\u001b[39;49m\u001b[43mconcat\u001b[49m\u001b[43m(\u001b[49m\u001b[43m[\u001b[49m\u001b[43mw_1\u001b[49m\u001b[43m,\u001b[49m\u001b[43m \u001b[49m\u001b[43mw_2\u001b[49m\u001b[43m,\u001b[49m\u001b[43m \u001b[49m\u001b[43mw_3\u001b[49m\u001b[43m]\u001b[49m\u001b[43m,\u001b[49m\u001b[43m \u001b[49m\u001b[43maxis\u001b[49m\u001b[38;5;241;43m=\u001b[39;49m\u001b[38;5;241;43m1\u001b[39;49m\u001b[43m)\u001b[49m\n\u001b[1;32m     64\u001b[0m w\u001b[38;5;241m.\u001b[39mcolumns \u001b[38;5;241m=\u001b[39m [\u001b[38;5;124m'\u001b[39m\u001b[38;5;124mArithmetic\u001b[39m\u001b[38;5;124m'\u001b[39m, \u001b[38;5;124m'\u001b[39m\u001b[38;5;124mLog Approx\u001b[39m\u001b[38;5;124m'\u001b[39m, \u001b[38;5;124m'\u001b[39m\u001b[38;5;124mLog Exact\u001b[39m\u001b[38;5;124m'\u001b[39m]\n",
      "File \u001b[0;32m/opt/homebrew/lib/python3.11/site-packages/pandas/core/reshape/concat.py:372\u001b[0m, in \u001b[0;36mconcat\u001b[0;34m(objs, axis, join, ignore_index, keys, levels, names, verify_integrity, sort, copy)\u001b[0m\n\u001b[1;32m    369\u001b[0m \u001b[38;5;28;01melif\u001b[39;00m copy \u001b[38;5;129;01mand\u001b[39;00m using_copy_on_write():\n\u001b[1;32m    370\u001b[0m     copy \u001b[38;5;241m=\u001b[39m \u001b[38;5;28;01mFalse\u001b[39;00m\n\u001b[0;32m--> 372\u001b[0m op \u001b[38;5;241m=\u001b[39m \u001b[43m_Concatenator\u001b[49m\u001b[43m(\u001b[49m\n\u001b[1;32m    373\u001b[0m \u001b[43m    \u001b[49m\u001b[43mobjs\u001b[49m\u001b[43m,\u001b[49m\n\u001b[1;32m    374\u001b[0m \u001b[43m    \u001b[49m\u001b[43maxis\u001b[49m\u001b[38;5;241;43m=\u001b[39;49m\u001b[43maxis\u001b[49m\u001b[43m,\u001b[49m\n\u001b[1;32m    375\u001b[0m \u001b[43m    \u001b[49m\u001b[43mignore_index\u001b[49m\u001b[38;5;241;43m=\u001b[39;49m\u001b[43mignore_index\u001b[49m\u001b[43m,\u001b[49m\n\u001b[1;32m    376\u001b[0m \u001b[43m    \u001b[49m\u001b[43mjoin\u001b[49m\u001b[38;5;241;43m=\u001b[39;49m\u001b[43mjoin\u001b[49m\u001b[43m,\u001b[49m\n\u001b[1;32m    377\u001b[0m \u001b[43m    \u001b[49m\u001b[43mkeys\u001b[49m\u001b[38;5;241;43m=\u001b[39;49m\u001b[43mkeys\u001b[49m\u001b[43m,\u001b[49m\n\u001b[1;32m    378\u001b[0m \u001b[43m    \u001b[49m\u001b[43mlevels\u001b[49m\u001b[38;5;241;43m=\u001b[39;49m\u001b[43mlevels\u001b[49m\u001b[43m,\u001b[49m\n\u001b[1;32m    379\u001b[0m \u001b[43m    \u001b[49m\u001b[43mnames\u001b[49m\u001b[38;5;241;43m=\u001b[39;49m\u001b[43mnames\u001b[49m\u001b[43m,\u001b[49m\n\u001b[1;32m    380\u001b[0m \u001b[43m    \u001b[49m\u001b[43mverify_integrity\u001b[49m\u001b[38;5;241;43m=\u001b[39;49m\u001b[43mverify_integrity\u001b[49m\u001b[43m,\u001b[49m\n\u001b[1;32m    381\u001b[0m \u001b[43m    \u001b[49m\u001b[43mcopy\u001b[49m\u001b[38;5;241;43m=\u001b[39;49m\u001b[43mcopy\u001b[49m\u001b[43m,\u001b[49m\n\u001b[1;32m    382\u001b[0m \u001b[43m    \u001b[49m\u001b[43msort\u001b[49m\u001b[38;5;241;43m=\u001b[39;49m\u001b[43msort\u001b[49m\u001b[43m,\u001b[49m\n\u001b[1;32m    383\u001b[0m \u001b[43m\u001b[49m\u001b[43m)\u001b[49m\n\u001b[1;32m    385\u001b[0m \u001b[38;5;28;01mreturn\u001b[39;00m op\u001b[38;5;241m.\u001b[39mget_result()\n",
      "File \u001b[0;32m/opt/homebrew/lib/python3.11/site-packages/pandas/core/reshape/concat.py:452\u001b[0m, in \u001b[0;36m_Concatenator.__init__\u001b[0;34m(self, objs, axis, join, keys, levels, names, ignore_index, verify_integrity, copy, sort)\u001b[0m\n\u001b[1;32m    449\u001b[0m         keys \u001b[38;5;241m=\u001b[39m Index(clean_keys, name\u001b[38;5;241m=\u001b[39mname)\n\u001b[1;32m    451\u001b[0m \u001b[38;5;28;01mif\u001b[39;00m \u001b[38;5;28mlen\u001b[39m(objs) \u001b[38;5;241m==\u001b[39m \u001b[38;5;241m0\u001b[39m:\n\u001b[0;32m--> 452\u001b[0m     \u001b[38;5;28;01mraise\u001b[39;00m \u001b[38;5;167;01mValueError\u001b[39;00m(\u001b[38;5;124m\"\u001b[39m\u001b[38;5;124mAll objects passed were None\u001b[39m\u001b[38;5;124m\"\u001b[39m)\n\u001b[1;32m    454\u001b[0m \u001b[38;5;66;03m# figure out what our result ndim is going to be\u001b[39;00m\n\u001b[1;32m    455\u001b[0m ndims \u001b[38;5;241m=\u001b[39m \u001b[38;5;28mset\u001b[39m()\n",
      "\u001b[0;31mValueError\u001b[0m: All objects passed were None"
     ]
    }
   ],
   "source": [
    "import yfinance as yf\n",
    "import riskfolio as rp\n",
    "import pandas as pd\n",
    "import numpy as np\n",
    "\n",
    "# Fetch stock data\n",
    "tickers = ['NVDA', 'SMCI', 'KNSL', 'GCT', 'PDD', 'CRWD', 'AVGO', 'SNOW']\n",
    "start_date = '2021-01-01'\n",
    "end_date = '2024-03-20'\n",
    "\n",
    "data = yf.download(tickers, start=start_date, end=end_date)['Adj Close']\n",
    "\n",
    "# Resample data to monthly frequency\n",
    "monthly_data = data.resample('M').last()\n",
    "\n",
    "# Calculate returns\n",
    "returns = monthly_data.pct_change().dropna()\n",
    "\n",
    "# Create a portfolio object\n",
    "port = rp.Portfolio(returns)\n",
    "\n",
    "# Estimate expected returns and covariance matrix\n",
    "port.assets_stats(method_mu='hist', method_cov='hist')\n",
    "\n",
    "# Define the asset bounds and constraints\n",
    "port.ainequality = None\n",
    "port.binequality = None\n",
    "port.lowerbound = 0.05\n",
    "port.upperbound = 0.5\n",
    "port.budget = 1\n",
    "\n",
    "# Optimize the portfolio using ERP\n",
    "model = 'Classic' # Could be 'Classic' (historical), 'BL' (Black Litterman), or 'FM' (Factor Model)\n",
    "rm = 'MV' # Risk measure could be 'MV' (variance), 'MAD' (mean absolute deviation), or 'MSV' (semi-variance)\n",
    "rf = 0.0 # Risk-free rate\n",
    "b = None # Risk budgeting vector (None for ERP)\n",
    "\n",
    "w = port.rp_optimization(model=model, rm=rm, rf=rf, b=b)\n",
    "\n",
    "# Print the optimal weights\n",
    "print(\"\\nOptimal Weights:\")\n",
    "print(w.T)\n"
   ]
  },
  {
   "cell_type": "code",
   "execution_count": 66,
   "metadata": {},
   "outputs": [
    {
     "name": "stdout",
     "output_type": "stream",
     "text": [
      "\n",
      "Monthly Stock Returns\n",
      "Ticker          AVGO      CRWD       GCT      KNSL      NVDA       PDD   \n",
      "Date                                                                     \n",
      "2022-09-30 -0.102937 -0.097476 -0.309898  0.007256 -0.195534 -0.122300  \\\n",
      "2022-10-31  0.058805 -0.021904 -0.537092  0.233928  0.111871 -0.123841   \n",
      "2022-11-30  0.172105 -0.270161  0.574786 -0.021669  0.254155  0.496261   \n",
      "2022-12-31  0.023166 -0.105057 -0.227951 -0.151488 -0.136442 -0.005973   \n",
      "2023-01-31  0.046286  0.005794  0.028119  0.064699  0.336869  0.201471   \n",
      "2023-02-28  0.015863  0.139660 -0.135043  0.145098  0.188309 -0.104613   \n",
      "2023-03-31  0.087276  0.137294  0.245059 -0.058205  0.196662 -0.134846   \n",
      "2023-04-30 -0.023443 -0.125382 -0.122222  0.088489 -0.001008 -0.102108   \n",
      "2023-05-31  0.289641  0.333861  0.220615 -0.072210  0.363436 -0.041526   \n",
      "2023-06-30  0.079325 -0.082808  0.001482  0.235065  0.118210  0.058481   \n",
      "2023-07-31  0.035991  0.100701  0.292899 -0.004196  0.104652  0.299103   \n",
      "2023-08-31  0.026974  0.008475  0.431350  0.070165  0.056196  0.101870   \n",
      "2023-09-30 -0.095121  0.026682 -0.295763  0.038883 -0.118578 -0.009094   \n",
      "2023-10-31  0.012991  0.056100  0.074915 -0.193707 -0.062507  0.034159   \n",
      "2023-11-30  0.100265  0.340669  0.026399  0.048883  0.146886  0.453757   \n",
      "2023-12-31  0.211350  0.077345  0.882202 -0.043388  0.058934 -0.007664   \n",
      "2024-01-31  0.057111  0.145621  0.214539  0.187095  0.242418 -0.132869   \n",
      "2024-02-29  0.102110  0.108205  0.685419  0.298721  0.285809 -0.018365   \n",
      "2024-03-31 -0.048043 -0.010150 -0.211749 -0.006374  0.130071  0.025213   \n",
      "\n",
      "Ticker          SMCI      SNOW  \n",
      "Date                            \n",
      "2022-09-30 -0.153811 -0.060735  \n",
      "2022-10-31  0.263664 -0.056837  \n",
      "2022-11-30  0.296594 -0.108547  \n",
      "2022-12-31 -0.090103  0.004479  \n",
      "2023-01-31 -0.119001  0.089870  \n",
      "2023-02-28  0.354486 -0.013168  \n",
      "2023-03-31  0.087578 -0.000583  \n",
      "2023-04-30 -0.010512 -0.040249  \n",
      "2023-05-31  1.124158  0.116694  \n",
      "2023-06-30  0.112972  0.064223  \n",
      "2023-07-31  0.325055  0.009831  \n",
      "2023-08-31 -0.167106 -0.117382  \n",
      "2023-09-30 -0.003126 -0.026012  \n",
      "2023-10-31 -0.126723 -0.050010  \n",
      "2023-11-30  0.141980  0.293185  \n",
      "2023-12-31  0.039456  0.060315  \n",
      "2024-01-31  0.863118 -0.016884  \n",
      "2024-02-29  0.635392 -0.037620  \n",
      "2024-03-31  0.051783 -0.162418  \n"
     ]
    }
   ],
   "source": [
    "print(\"\\nMonthly Stock Returns\")\n",
    "print(returns)"
   ]
  },
  {
   "cell_type": "code",
   "execution_count": 67,
   "metadata": {},
   "outputs": [
    {
     "name": "stdout",
     "output_type": "stream",
     "text": [
      "Stock:\n",
      "       Ret (M)  Ret (Y) Vol (M)  Vol (Y)\n",
      "Ticker                                  \n",
      "AVGO     5.52%   66.30%   9.69%   33.56%\n",
      "CRWD     4.04%   48.47%  14.99%   51.93%\n",
      "GCT      9.67%  116.09%  36.79%  127.44%\n",
      "KNSL     4.56%   54.76%  13.08%   45.32%\n",
      "NVDA    10.95%  131.39%  15.89%   55.04%\n",
      "PDD      4.56%   54.77%  18.97%   65.73%\n",
      "SMCI    19.08%  229.00%  35.31%  122.32%\n",
      "SNOW    -0.27%   -3.27%  10.03%   34.73%\n"
     ]
    }
   ],
   "source": [
    "monthly_return = returns.mean()\n",
    "annual_return = returns.mean() * 12\n",
    "\n",
    "monthly_volatility = returns.std()\n",
    "annual_volatility = monthly_volatility * np.sqrt(12)\n",
    "\n",
    "# Create a DataFrame to store volatility values\n",
    "stock_df = pd.DataFrame({\n",
    "  'Ret (M)': monthly_return,\n",
    "  'Ret (Y)': annual_return,\n",
    "  'Vol (M)': monthly_volatility,\n",
    "  'Vol (Y)': annual_volatility})\n",
    "\n",
    "# Custom function for formatting as percentage\n",
    "def format_as_percent(value):\n",
    "    return \"{:.2f}%\".format(value * 100)\n",
    "\n",
    "# Apply the formatting function to all elements in the DataFrame\n",
    "stock_df_formatted = stock_df.applymap(format_as_percent)\n",
    "\n",
    "print(\"Stock:\")\n",
    "print(stock_df_formatted)"
   ]
  },
  {
   "cell_type": "code",
   "execution_count": 68,
   "metadata": {},
   "outputs": [
    {
     "name": "stdout",
     "output_type": "stream",
     "text": [
      "\n",
      "Correlation Matrix:\n",
      "Ticker      AVGO      CRWD       GCT      KNSL      NVDA       PDD      SMCI   \n",
      "Ticker                                                                         \n",
      "AVGO    1.000000  0.372404  0.643224 -0.059210  0.658663  0.246629  0.589000  \\\n",
      "CRWD    0.372404  1.000000  0.155561  0.006139  0.394240 -0.052034  0.513910   \n",
      "GCT     0.643224  0.155561  1.000000 -0.041382  0.428351  0.312679  0.268934   \n",
      "KNSL   -0.059210  0.006139 -0.041382  1.000000  0.346480 -0.167706  0.304194   \n",
      "NVDA    0.658663  0.394240  0.428351  0.346480  1.000000  0.227832  0.663242   \n",
      "PDD     0.246629 -0.052034  0.312679 -0.167706  0.227832  1.000000 -0.106545   \n",
      "SMCI    0.589000  0.513910  0.268934  0.304194  0.663242 -0.106545  1.000000   \n",
      "SNOW    0.429519  0.634140  0.072300 -0.016515  0.251165  0.310879  0.190598   \n",
      "\n",
      "Ticker      SNOW  \n",
      "Ticker            \n",
      "AVGO    0.429519  \n",
      "CRWD    0.634140  \n",
      "GCT     0.072300  \n",
      "KNSL   -0.016515  \n",
      "NVDA    0.251165  \n",
      "PDD     0.310879  \n",
      "SMCI    0.190598  \n",
      "SNOW    1.000000  \n"
     ]
    }
   ],
   "source": [
    "correlation_matrix = returns.corr()\n",
    "\n",
    "print(\"\\nCorrelation Matrix:\")\n",
    "print(correlation_matrix)"
   ]
  },
  {
   "cell_type": "code",
   "execution_count": 69,
   "metadata": {},
   "outputs": [
    {
     "name": "stdout",
     "output_type": "stream",
     "text": [
      "Portfolio:\n",
      "Exp Ret (M):\t4.94%\n",
      "Exp Ret (Y):\t59.28%\n",
      "Exp Vol (M):\t8.72%\n",
      "Exp Vol (Y):\t30.22%\n"
     ]
    }
   ],
   "source": [
    "port_mu = port.mu @ w  # Portfolio Expected Return\n",
    "port_vol = np.sqrt(w.T @ port.cov @ w)  # Portfolio Standard Deviation (Volatility)\n",
    "\n",
    "annual_mu = port_mu * 12\n",
    "annual_vol = port_vol * np.sqrt(12)\n",
    "\n",
    "portfolio = {\n",
    "    'Exp Ret (M)': port_mu.iloc[0, 0],\n",
    "    'Exp Ret (Y)': annual_mu.iloc[0, 0],\n",
    "    'Exp Vol (M)': port_vol.iloc[0, 0],\n",
    "    'Exp Vol (Y)': annual_vol.iloc[0, 0]\n",
    "}\n",
    "\n",
    "print(\"Portfolio:\")\n",
    "for key, value in portfolio.items():\n",
    "    print(f\"{key}:\\t{value*100:.2f}%\")"
   ]
  }
 ],
 "metadata": {
  "kernelspec": {
   "display_name": "Python 3",
   "language": "python",
   "name": "python3"
  },
  "language_info": {
   "codemirror_mode": {
    "name": "ipython",
    "version": 3
   },
   "file_extension": ".py",
   "mimetype": "text/x-python",
   "name": "python",
   "nbconvert_exporter": "python",
   "pygments_lexer": "ipython3",
   "version": "3.11.7"
  }
 },
 "nbformat": 4,
 "nbformat_minor": 2
}
